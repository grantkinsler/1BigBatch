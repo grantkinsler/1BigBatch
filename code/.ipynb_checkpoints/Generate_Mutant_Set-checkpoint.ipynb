{
 "cells": [
  {
   "cell_type": "code",
   "execution_count": 34,
   "metadata": {},
   "outputs": [
    {
     "name": "stdout",
     "output_type": "stream",
     "text": [
      "The autoreload extension is already loaded. To reload it, use:\n",
      "  %reload_ext autoreload\n"
     ]
    }
   ],
   "source": [
    "%load_ext autoreload\n",
    "%autoreload 2\n",
    "import numpy as np\n",
    "import pandas as p\n",
    "import seaborn as sns\n",
    "import matplotlib.pyplot as plt\n",
    "from scipy.stats import pearsonr\n",
    "from scipy.spatial import distance\n",
    "from scipy.stats.mstats import gmean\n",
    "%matplotlib inline\n",
    "from itertools import combinations\n",
    "from itertools import chain\n",
    "import sys\n",
    "import os\n",
    "import copy\n",
    "sns.set_style('white')\n",
    "sns.set_style('ticks')\n",
    "sns.set_color_codes()\n",
    "\n",
    "fgm_simulation_path = '/Users/grantkinsler/Documents/Stanford/Research/StarryNight/Git/starry-night/Simulations/FGM_simulation_callable.py'\n",
    "sys.path.append(os.path.dirname(os.path.expanduser(fgm_simulation_path)))\n",
    "from FGM_simulation_callable import simulation, nball_pull, gaussian_fitness\n",
    "\n",
    "tools_path = '../code/tools.py'\n",
    "sys.path.append(os.path.dirname(os.path.expanduser(tools_path)))\n",
    "import tools"
   ]
  },
  {
   "cell_type": "code",
   "execution_count": 35,
   "metadata": {},
   "outputs": [],
   "source": [
    "np.random.seed(953527608) # for exact figure reproducibility use this seed"
   ]
  },
  {
   "cell_type": "code",
   "execution_count": 36,
   "metadata": {},
   "outputs": [],
   "source": [
    "# fitness_data = p.read_csv('../data/DoubleBC_Merged_Fitness_Atish_Default_AllConditions.csv')\n",
    "# fitness_data = p.read_csv('../data/DoubleBC_Merged_Fitness_Atish_Weighted_Default_AllConditions_IncludingOld_swapsremoved.csv')\n",
    "fitness_data = p.read_csv('../data/fitness_weighted_allconditions_swapsremoved.csv')"
   ]
  },
  {
   "cell_type": "code",
   "execution_count": 37,
   "metadata": {},
   "outputs": [],
   "source": [
    "fitness_data = fitness_data.replace([np.inf, -np.inf], np.nan).dropna()"
   ]
  },
  {
   "cell_type": "code",
   "execution_count": 38,
   "metadata": {},
   "outputs": [],
   "source": [
    "gene_type_combos = np.unique([(g,t) for g,t in zip(fitness_data['gene'].values,fitness_data['type'].values)],axis=0)"
   ]
  },
  {
   "cell_type": "markdown",
   "metadata": {},
   "source": [
    "We can construct a training and test set of mutants by, for each mutant type (combination of gene and mutation type), dividing half of those mutant types into each set. \"Half\" is calculated by rounding down to be conservative, so mutant types with only one representative are only present in the \"test\" set.\n",
    "\n",
    "Because \"other\" (mutation not in RAS/PKA or TOR pathway and/or Diploid) and \"Not Sequenced\" mutants have genotypes that are not easily classified as being similar to something else (or unknown), they are not included in these training and test sets.\n",
    "\n",
    "Because neutral lineages should (in theory) give no information on the space, they are included only in the test set."
   ]
  },
  {
   "cell_type": "code",
   "execution_count": 39,
   "metadata": {},
   "outputs": [
    {
     "name": "stdout",
     "output_type": "stream",
     "text": [
      "CYR1 missense_variant 3 1\n",
      "Diploid Diploid 200 100\n",
      "Diploid + Chr11Amp Diploid + Chr11Amp 3 1\n",
      "Diploid + Chr12Amp Diploid + Chr12Amp 1 0\n",
      "Diploid + IRA1 missense_variant 1 0\n",
      "Diploid + IRA2 frameshift_variant 1 0\n",
      "Diploid + IRA2 missense_variant 1 0\n",
      "Diploid + IRA2 stop_gained 1 0\n",
      "GPB1 frameshift_variant 1 0\n",
      "GPB1 missense_variant 1 0\n",
      "GPB1 stop_gained 2 1\n",
      "GPB2 frameshift_variant 5 2\n",
      "GPB2 missense_variant 1 0\n",
      "GPB2 stop_gained 8 4\n",
      "IRA1 frameshift_variant 11 5\n",
      "IRA1 missense_variant 9 4\n",
      "IRA1 stop_gained 10 5\n",
      "IRA1 upstream_point_variant 1 0\n",
      "IRA2 frameshift_variant 1 0\n",
      "IRA2 missense_variant 8 4\n",
      "KOG1 missense_variant 1 0\n",
      "PDE2 frameshift_variant 6 3\n",
      "PDE2 missense_variant 2 1\n",
      "PDE2 stop_gained 3 1\n",
      "RAS2 missense_variant 1 0\n",
      "SCH9 missense_variant 1 0\n",
      "TFS1 missense_variant 1 0\n",
      "TOR1 missense_variant 1 0\n",
      "CYR1 missense_variant 3 3\n",
      "Diploid Diploid 200 10\n",
      "Diploid + Chr11Amp Diploid + Chr11Amp 3 3\n",
      "Diploid + Chr12Amp Diploid + Chr12Amp 1 1\n",
      "Diploid + IRA1 missense_variant 1 1\n",
      "Diploid + IRA2 frameshift_variant 1 1\n",
      "Diploid + IRA2 missense_variant 1 1\n",
      "Diploid + IRA2 stop_gained 1 1\n",
      "GPB1 frameshift_variant 1 1\n",
      "GPB1 missense_variant 1 1\n",
      "GPB1 stop_gained 2 2\n",
      "GPB2 frameshift_variant 5 5\n",
      "GPB2 missense_variant 1 1\n",
      "GPB2 stop_gained 8 8\n",
      "IRA1 frameshift_variant 11 10\n",
      "IRA1 missense_variant 9 9\n",
      "IRA1 stop_gained 10 10\n",
      "IRA1 upstream_point_variant 1 1\n",
      "IRA2 frameshift_variant 1 1\n",
      "IRA2 missense_variant 8 8\n",
      "KOG1 missense_variant 1 1\n",
      "PDE2 frameshift_variant 6 6\n",
      "PDE2 missense_variant 2 2\n",
      "PDE2 stop_gained 3 3\n",
      "RAS2 missense_variant 1 1\n",
      "SCH9 missense_variant 1 1\n",
      "TFS1 missense_variant 1 1\n",
      "TOR1 missense_variant 1 1\n"
     ]
    }
   ],
   "source": [
    "bc_list = []\n",
    "\n",
    "for (g,t) in gene_type_combos:\n",
    "    if not (('other' in g) or ('NotSequenced' in g)):\n",
    "        this_gt = fitness_data[(fitness_data['gene'].isin([g]) & fitness_data['type'].isin([t]))]\n",
    "        n_samples = int(np.floor(len(this_gt.index)/2))\n",
    "        print(g,t,len(this_gt.index),n_samples)\n",
    "        \n",
    "        bc_list = bc_list + list(np.random.choice(this_gt['barcode'].values,n_samples))\n",
    "\n",
    "# exp_neutral =  fitness_data[fitness_data['class'].isin(['ExpNeutral'])]\n",
    "# n_samples = int(np.floor(len(exp_neutral.index)/2))\n",
    "# bc_list = bc_list + list(np.random.choice(exp_neutral['barcode'].values,n_samples)) \n",
    "\n",
    "\n",
    "fitness_data[fitness_data['barcode'].isin(bc_list)].to_csv('../data/mutant_train_set.csv',index=False)\n",
    "\n",
    "typical_test_list = []\n",
    "\n",
    "number_per = 10\n",
    "\n",
    "for (g,t) in gene_type_combos:\n",
    "    if not (('other' in g) or ('NotSequenced' in g)):\n",
    "        this_gt = fitness_data[(fitness_data['gene'].isin([g]) & fitness_data['type'].isin([t]))]\n",
    "        n_samples = min([int(np.floor(len(this_gt.index))),number_per])\n",
    "        print(g,t,len(this_gt.index),n_samples)\n",
    "        \n",
    "        options = [bc for bc in this_gt['barcode'].values if bc not in bc_list]\n",
    "        \n",
    "        typical_test_list = typical_test_list + list(np.random.choice(options,n_samples))\n",
    "\n",
    "exp_neutral =  fitness_data[fitness_data['class'].isin(['ExpNeutral'])]\n",
    "n_samples =  min([int(np.floor(len(this_gt.index))),number_per])\n",
    "# typical_test_list = typical_test_list + list(np.random.choice(exp_neutral['barcode'].values,n_samples)) \n",
    "typical_test_list = typical_test_list + list(exp_neutral['barcode'].values) \n",
    "\n",
    "typical_test_list = typical_test_list + list(fitness_data[fitness_data['gene']=='other']['barcode'].values) + list(fitness_data[fitness_data['gene']=='NotSequenced']['barcode'].values)\n",
    "\n",
    "typical_test_list = [bc for bc in typical_test_list if bc not in bc_list]\n",
    "\n",
    "fitness_data[fitness_data['barcode'].isin(typical_test_list)].to_csv('../data/mutant_test_set.csv',index=False) "
   ]
  },
  {
   "cell_type": "markdown",
   "metadata": {},
   "source": [
    " The \"minimal\" set below tries to account for imbalances in the number of mutants per type by instead taking 2 of every mutant type in the training set and (at most) 10 of each for the testing set.\n",
    " \n",
    "Again, \"other\" mutants and \"Not Sequenced\" are excluded."
   ]
  },
  {
   "cell_type": "code",
   "execution_count": 40,
   "metadata": {},
   "outputs": [
    {
     "name": "stdout",
     "output_type": "stream",
     "text": [
      "MINIMAL TRAINING SET\n",
      "CYR1 missense_variant 3 1\n",
      "Diploid Diploid 200 2\n",
      "Diploid + Chr11Amp Diploid + Chr11Amp 3 1\n",
      "Diploid + Chr12Amp Diploid + Chr12Amp 1 0\n",
      "Diploid + IRA1 missense_variant 1 0\n",
      "Diploid + IRA2 frameshift_variant 1 0\n",
      "Diploid + IRA2 missense_variant 1 0\n",
      "Diploid + IRA2 stop_gained 1 0\n",
      "GPB1 frameshift_variant 1 0\n",
      "GPB1 missense_variant 1 0\n",
      "GPB1 stop_gained 2 1\n",
      "GPB2 frameshift_variant 5 2\n",
      "GPB2 missense_variant 1 0\n",
      "GPB2 stop_gained 8 2\n",
      "IRA1 frameshift_variant 11 2\n",
      "IRA1 missense_variant 9 2\n",
      "IRA1 stop_gained 10 2\n",
      "IRA1 upstream_point_variant 1 0\n",
      "IRA2 frameshift_variant 1 0\n",
      "IRA2 missense_variant 8 2\n",
      "KOG1 missense_variant 1 0\n",
      "PDE2 frameshift_variant 6 2\n",
      "PDE2 missense_variant 2 1\n",
      "PDE2 stop_gained 3 1\n",
      "RAS2 missense_variant 1 0\n",
      "SCH9 missense_variant 1 0\n",
      "TFS1 missense_variant 1 0\n",
      "TOR1 missense_variant 1 0\n",
      "MINIMAL TESTING SET\n",
      "CYR1 missense_variant 3 3\n",
      "Diploid Diploid 200 10\n",
      "Diploid + Chr11Amp Diploid + Chr11Amp 3 3\n",
      "Diploid + Chr12Amp Diploid + Chr12Amp 1 1\n",
      "Diploid + IRA1 missense_variant 1 1\n",
      "Diploid + IRA2 frameshift_variant 1 1\n",
      "Diploid + IRA2 missense_variant 1 1\n",
      "Diploid + IRA2 stop_gained 1 1\n",
      "GPB1 frameshift_variant 1 1\n",
      "GPB1 missense_variant 1 1\n",
      "GPB1 stop_gained 2 2\n",
      "GPB2 frameshift_variant 5 5\n",
      "GPB2 missense_variant 1 1\n",
      "GPB2 stop_gained 8 8\n",
      "IRA1 frameshift_variant 11 10\n",
      "IRA1 missense_variant 9 9\n",
      "IRA1 stop_gained 10 10\n",
      "IRA1 upstream_point_variant 1 1\n",
      "IRA2 frameshift_variant 1 1\n",
      "IRA2 missense_variant 8 8\n",
      "KOG1 missense_variant 1 1\n",
      "PDE2 frameshift_variant 6 6\n",
      "PDE2 missense_variant 2 2\n",
      "PDE2 stop_gained 3 3\n",
      "RAS2 missense_variant 1 1\n",
      "SCH9 missense_variant 1 1\n",
      "TFS1 missense_variant 1 1\n",
      "TOR1 missense_variant 1 1\n"
     ]
    }
   ],
   "source": [
    "minimal_bc_list = []\n",
    "\n",
    "number_per = 2\n",
    "print('MINIMAL TRAINING SET')\n",
    "for (g,t) in gene_type_combos:\n",
    "    if not (('other' in g) or ('NotSequenced' in g)):\n",
    "        this_gt = fitness_data[(fitness_data['gene'].isin([g]) & fitness_data['type'].isin([t]))]\n",
    "        n_samples = min([int(np.floor(len(this_gt.index)/2)),number_per])\n",
    "        print(g,t,len(this_gt.index),n_samples)\n",
    "        \n",
    "        minimal_bc_list = minimal_bc_list + list(np.random.choice(this_gt['barcode'].values,n_samples))\n",
    "        \n",
    "\n",
    "# exp_neutral =  fitness_data[fitness_data['class'].isin(['ExpNeutral'])]\n",
    "# n_samples = int(np.floor(len(exp_neutral.index)/2))\n",
    "# minimal_bc_list = minimal_bc_list + list(np.random.choice(exp_neutral['barcode'].values,n_samples))  \n",
    "## should this be balanced by mutation type (diploids dominate...)   \n",
    "\n",
    "fitness_data[fitness_data['barcode'].isin(minimal_bc_list)].to_csv('../data/mutant_minimal_train_set.csv',index=False)\n",
    "\n",
    "minimal_test_list = []\n",
    "\n",
    "number_per = 10\n",
    "print('MINIMAL TESTING SET')\n",
    "for (g,t) in gene_type_combos:\n",
    "    if not (('other' in g) or ('NotSequenced' in g)):\n",
    "        this_gt = fitness_data[(fitness_data['gene'].isin([g]) & fitness_data['type'].isin([t]))]\n",
    "        n_samples = min([int(np.floor(len(this_gt.index))),number_per])\n",
    "        print(g,t,len(this_gt.index),n_samples)\n",
    "        \n",
    "        options = [bc for bc in this_gt['barcode'].values if bc not in minimal_bc_list]\n",
    "        \n",
    "        minimal_test_list = minimal_test_list + list(np.random.choice(options,n_samples))\n",
    "\n",
    "exp_neutral =  fitness_data[fitness_data['class'].isin(['ExpNeutral'])]\n",
    "n_samples =  min([int(np.floor(len(this_gt.index))),number_per])\n",
    "# minimal_test_list = minimal_test_list + list(np.random.choice(exp_neutral['barcode'].values,n_samples)) \n",
    "minimal_test_list = minimal_test_list + list(exp_neutral['barcode'].values) \n",
    "\n",
    "\n",
    "# print(list(np.random.choice(exp_neutral['barcode'].values,n_samples)) )\n",
    "# minimal_test_list = minimal_test_list + list(fitness_data[fitness_data['gene']=='other']['barcode'].values) + list(fitness_data[fitness_data['gene']=='NotSequenced']['barcode'].values)\n",
    "\n",
    "minimal_test_list = [bc for bc in minimal_test_list if bc not in minimal_bc_list]\n",
    "\n",
    "fitness_data[fitness_data['barcode'].isin(minimal_test_list)].to_csv('../data/mutant_minimal_test_set.csv',index=False)        "
   ]
  },
  {
   "cell_type": "markdown",
   "metadata": {},
   "source": [
    "To account for the fact \"other\" mutants may in fact have interesting phenotypic behavior that isn't capture by the commonly hit mutants, we also include another training set where we divide these equally into the training and test set, but otherwise keep the \"minimal\" training and test sets from above. \n",
    "\n",
    "Note that though the \"other\" mutants have no obvious commonalities in genotype, it is possible there is over-representation of particular mutants in some of these sets.\n",
    "\n",
    "To avoid the problem that some of the \"Not Sequenced\" mutants are actually likely to contain some similarities, particularly because we've not sequenced some because of similarities to others (i.e. likely to be Diploid/IRA1) and this may put our sets out of balance."
   ]
  },
  {
   "cell_type": "code",
   "execution_count": 41,
   "metadata": {},
   "outputs": [
    {
     "name": "stdout",
     "output_type": "stream",
     "text": [
      "41 82\n"
     ]
    }
   ],
   "source": [
    "this_gt = fitness_data[(fitness_data['gene'].isin(['other']))]\n",
    "n_samples = int(len(this_gt.index)/2)\n",
    "print(n_samples,len(this_gt.index))\n",
    "train_others = list(np.random.choice(this_gt['barcode'].values,n_samples))\n",
    "test_others = [bc for bc in this_gt['barcode'].values if bc not in train_others]\n",
    "        \n",
    "training_w_others = minimal__list + train_others\n",
    "fitness_data[fitness_data['barcode'].isin(training_w_others)].to_csv('../data/mutant_minimal+other_train_set.csv',index=False)\n",
    "\n",
    "\n",
    "testing_w_others = minimal_test_list + test_others\n",
    "fitness_data[fitness_data['barcode'].isin(training_w_others)].to_csv('../data/mutant_minimal+other_test_set.csv',index=False)\n",
    "\n",
    "\n",
    "fitness_data[fitness_data['barcode'].isin(train_others)].to_csv('../data/mutant_justother_train_set.csv',index=False)\n",
    "\n",
    "fitness_data[fitness_data['barcode'].isin(test_others)].to_csv('../data/mutant_justother_test_set.csv',index=False)\n",
    " "
   ]
  },
  {
   "cell_type": "code",
   "execution_count": 43,
   "metadata": {},
   "outputs": [
    {
     "data": {
      "text/plain": [
       "41"
      ]
     },
     "execution_count": 43,
     "metadata": {},
     "output_type": "execute_result"
    }
   ],
   "source": [
    "len(training_w_others)"
   ]
  },
  {
   "cell_type": "code",
   "execution_count": null,
   "metadata": {},
   "outputs": [],
   "source": []
  }
 ],
 "metadata": {
  "kernelspec": {
   "display_name": "Python 3",
   "language": "python",
   "name": "python3"
  },
  "language_info": {
   "codemirror_mode": {
    "name": "ipython",
    "version": 3
   },
   "file_extension": ".py",
   "mimetype": "text/x-python",
   "name": "python",
   "nbconvert_exporter": "python",
   "pygments_lexer": "ipython3",
   "version": "3.6.4"
  }
 },
 "nbformat": 4,
 "nbformat_minor": 2
}
