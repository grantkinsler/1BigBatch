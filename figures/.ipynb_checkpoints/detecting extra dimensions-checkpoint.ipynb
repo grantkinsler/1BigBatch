{
 "cells": [
  {
   "cell_type": "code",
   "execution_count": 4,
   "metadata": {},
   "outputs": [],
   "source": [
    "%load_ext autoreload\n",
    "%autoreload 2\n",
    "import numpy as np\n",
    "import pandas as p\n",
    "import seaborn as sns\n",
    "import matplotlib.pyplot as plt\n",
    "import matplotlib\n",
    "from matplotlib.gridspec import GridSpec\n",
    "from scipy.stats import pearsonr\n",
    "from scipy.spatial import distance\n",
    "from scipy.stats.mstats import gmean\n",
    "from sklearn.linear_model import LinearRegression\n",
    "from statsmodels.nonparametric.smoothers_lowess import lowess \n",
    "from skmisc.loess import loess\n",
    "%matplotlib inline\n",
    "from itertools import combinations\n",
    "from itertools import chain\n",
    "from itertools import product\n",
    "import statsmodels\n",
    "\n",
    "from multiprocessing import Pool\n",
    "import sys\n",
    "import os\n",
    "import copy\n",
    "sns.set_style('white')\n",
    "sns.set_style('ticks')\n",
    "sns.set_color_codes()\n",
    "\n",
    "fgm_simulation_path = '/Users/grantkinsler/Documents/Stanford/Research/StarryNight/Git/starry-night/Simulations/FGM_simulation_callable.py'\n",
    "sys.path.append(os.path.dirname(os.path.expanduser(fgm_simulation_path)))\n",
    "from FGM_simulation_callable import simulation, nball_pull, gaussian_fitness\n",
    "\n",
    "tools_path = '../code/tools.py'\n",
    "graphs_path = '../code/graphs.py'\n",
    "sys.path.append(os.path.dirname(os.path.expanduser(tools_path)))\n",
    "sys.path.append(os.path.dirname(os.path.expanduser(graphs_path)))\n",
    "import tools\n",
    "import graphs\n",
    "from tools import mutant_colorset\n",
    "from tools import condition_colorset\n",
    "from tools import renamed_conditions"
   ]
  },
  {
   "cell_type": "code",
   "execution_count": 5,
   "metadata": {},
   "outputs": [],
   "source": [
    "cov_thresh = 1e6\n",
    "\n",
    "# fitness_data = p.read_csv('../data/DoubleBC_Merged_Fitness_Atish_Weighted_Default_AllConditions_IncludingOld_swapsremoved.csv')\n",
    "fitness_data = p.read_csv('../data/fitness_weighted_allconditions_swapsremoved.csv')\n",
    "\n",
    "\n",
    "merged_fitness_data = fitness_data"
   ]
  },
  {
   "cell_type": "code",
   "execution_count": 6,
   "metadata": {},
   "outputs": [
    {
     "name": "stdout",
     "output_type": "stream",
     "text": [
      "76\n"
     ]
    }
   ],
   "source": [
    "mutant_train_set = p.read_csv('../data/mutant_train_set.csv')\n",
    "training_bcs = mutant_train_set['barcode'].values\n",
    "\n",
    "mutant_minimal_train_set = p.read_csv('../data/mutant_minimal_train_set.csv')\n",
    "minimal_training_bcs = mutant_minimal_train_set['barcode'].values\n",
    "\n",
    "mutant_minimal_test_set = p.read_csv('../data/mutant_minimal_test_set.csv')\n",
    "minimal_testing_bcs = mutant_minimal_test_set['barcode'].values\n",
    "\n",
    "mutant_minimal_wothers_train_set = p.read_csv('../data/mutant_minimal+otheradaptive_train_set.csv')\n",
    "minimal_wothers_training_bcs = mutant_minimal_wothers_train_set['barcode'].values\n",
    "\n",
    "mutant_minimal_wothers_test_set = p.read_csv('../data/mutant_minimal+otheradaptive_test_set.csv')\n",
    "minimal_wothers_testing_bcs = mutant_minimal_wothers_test_set['barcode'].values\n",
    "print(len(minimal_wothers_testing_bcs))\n",
    "\n",
    "# mutant_justothers_train_set = p.read_csv('../data/mutant_justother_train_set.csv')\n",
    "# justothers_training_bcs = mutant_justothers_train_set['barcode'].values\n",
    "\n",
    "# mutant_justothers_test_set = p.read_csv('../data/mutant_justother_test_set.csv')\n",
    "# justothers_testing_bcs = mutant_justothers_test_set['barcode'].values"
   ]
  },
  {
   "cell_type": "code",
   "execution_count": 7,
   "metadata": {},
   "outputs": [],
   "source": [
    "old_conditions = {\n",
    "#                   '3':['t3.1','t3.2','t3.3'],\n",
    "#                   '6':['t6.1','t6.2','t6.3'],\n",
    "#                   '13':['t13.1','t13.2','t13.3'],\n",
    "#                   '18':['t18.1','t18.2','t18.3'],\n",
    "                  '19':['t19.1','t19.2','t19.3'],\n",
    "#                   '20':['t20.1','t20.2','t20.3'],\n",
    "#                   '21':['t21.1','t21.2','t21.3'],\n",
    "#                   '23':['t23.1','t23.2','t23.3'],\n",
    "                  'M3_Batch_3':['3.1','3.2','3.3'],\n",
    "                  'M3_Batch_6':['6.1','6.2','6.3'],\n",
    "                  'M3_Batch_13':['13.1','13.2','13.3'],\n",
    "                  'M3_Batch_18':['18.1','18.2','18.3'],\n",
    "#                   'M3_Batch_19':['t19.1','t19.2','t19.3'],\n",
    "                  'M3_Batch_20':['20.1','20.2','20.3'],\n",
    "                  'M3_Batch_21':['21.1','21.2','21.3'],\n",
    "                  'M3_Batch_23':['23.1','23.2','23.3'],\n",
    "                    ## radicicol\n",
    "                    ## benomyl\n",
    "                    ## fluconazole\n",
    "\n",
    "    \n",
    "    }\n",
    "\n",
    "bigbatch_conditions = {\n",
    "                        '1BB_M3':['A','B','C','D'],\n",
    "                        '1BB_Baffle':['E','F'],\n",
    "                        '1BB_1.4%Gluc' :['G','H'],\n",
    "                        '1BB_1.8%Gluc' :['I','J'],\n",
    "                        '1BB_0.2MNaCl' :['K','L'],\n",
    "#                         '1BB_0.2MNaCl' :['K'], \n",
    "                        '1BB_0.5MNaCl' :['M','N'],\n",
    "                        '1BB_0.2MKCl' :['O'],\n",
    "                        '1BB_0.5MKCl' :['P'],\n",
    "                        '1BB_8.5uMGdA' :['Q','R'],\n",
    "                        '1BB_17uMGdA' :['S','T'],\n",
    "                        '1BB_2ugFlu' :['U','V'],\n",
    "                        '1BB_0.5ugFlu' :['W','X'],\n",
    "                        '1BB_1%Raf' :['Y','Z'],\n",
    "                        '1BB_0.5%Raf' :['AA','BB'],\n",
    "                        '1BB_1%Gly' :['CC','DD'],\n",
    "                        '1BB_1%EtOH' :['EE','FF'],\n",
    "                        '1BB_SucRaf' :['GG'],\n",
    "                      }\n",
    "\n",
    "\n",
    "\n",
    "# old_nonm3_conditions = [\n",
    "# #     '1.4Glucose', '1.6Glucose', '1.7Glucose', '1.8Glucose',\n",
    "#        '2.5Glucose', '24_Hour_Transfer_PC', 'Benomyl_2ug/mL',\n",
    "#        'DMSO', 'Ferm_40_Hour_Transfer', 'Ferm_44_Hour_Transfer',\n",
    "#        'Ferm_50_Hour_Transfer', 'Ferm_54_Hour_Transfer',\n",
    "#        'Fluconazole_2ug/mL', 'Geldanamycin8.5uM','Radicicol_5uM', 'Resp_5_Day_Transfer',\n",
    "#        'Resp_7_Day_Transfer']\n",
    "\n",
    "old_nonm3_conditions = {'Ferm_44hr_Transfer':['t14.1','t14.2','t14.3'],\n",
    "                  'Ferm_40hr_Transfer':['t15.1','t15.2','t15.3'],\n",
    "                  'Ferm_54hr_Transfer':['t16.1','t16.2','t16.3'],\n",
    "                  'Ferm_50hr_Transfer':['t17.1','t17.2','t17.3'],\n",
    "                  'Resp_24hr_Transfer':['t5.1','t5.2','t5.3'],\n",
    "                  'Resp_3Day_Transfer':['t7.1','t7.2','t7.3'],\n",
    "                  'Resp_4Day_Transfer':['t8.1','t8.2','t8.3'],\n",
    "                  'Resp_5Day_Transfer':['t25.1','t25.2','t25.3'],\n",
    "                  'Resp_6Day_Transfer':['t26.1','t26.2','t26.3'],\n",
    "                  'Resp_7Day_Transfer':['t27.1','t27.2','t27.3'],\n",
    "                  'DMSO':['t1.1','t1.2','t1.3'],\n",
    "                  'Geldanamycin8.5uM':['t2.4','t2.5','t2.6'],\n",
    "                    '1.4%':['1.4%-R1','1.4%-R2'],\n",
    "                    '1.5%':['1.5%-R1','1.5%-R2'],\n",
    "                    '1.6%':['1.6%-R1','1.6%-R2'],\n",
    "                    '1.7%':['1.7%-R1','1.7%-R2'],\n",
    "                    '1.8%':['1.8%-R1','1.8%-R2'],\n",
    "                    '2.5%':['2.5%-R1','2.5%-R2'],  # not enough usable data\n",
    "                    'Ben0.4':['Ben0.4-R1','Ben0.4-R2'], # not enough usable data\n",
    "                    'Ben2':['Ben2-R1','Ben2-R2'], # not enough usable data\n",
    "#                     'Ben10':['Ben10-R1','Ben10-R2'],\n",
    "                       }\n",
    "\n",
    "\n",
    "\n",
    "\n",
    "# m3_conditions = {**old_conditions,}\n",
    "conditions = {**old_conditions, **bigbatch_conditions}\n",
    "conditions = {**conditions, **old_nonm3_conditions}\n",
    "all_conditions = conditions.keys()\n",
    "all_reps = [rep for reps in conditions.values() for rep in reps]\n",
    "\n",
    "m3_conditions = list(old_conditions.keys()) + ['1BB_M3']\n",
    "m3_reps = [rep for condition in m3_conditions for rep in conditions[condition]]\n",
    "\n",
    "\n"
   ]
  },
  {
   "cell_type": "code",
   "execution_count": 8,
   "metadata": {},
   "outputs": [],
   "source": [
    "full_neutral_list = [17615,18486,42040,45014,58284,63611,73731,74185,80465,94896\n",
    ",120600,125697,132511,134852,135750,190551,228237,238783,255561,298344\n",
    ",308537,316954,317346,335717,411685,454359,469053] \n",
    "\n",
    "### from previous list but never has fitness above 3.5% (per gen) in any of 5000bc experiments\n",
    "supergood_neutral = [17615, 24362, 42040, 71926, 72939, 73802, 80465, 109476, 113483, \n",
    "                     134852, 135750, 238783, 263665, 276406, 316954, 335717, 454359] \n",
    "\n",
    "### pulled from supergood list and spiked into 1BigBatch experiments\n",
    "neutral_spikes = [17615,24362,42040,71926,73802,109476,113483,134852,263665,316954]\n",
    "\n",
    "# neutrals = full_neutral_list\n",
    "neutrals = list(np.unique(full_neutral_list+supergood_neutral+neutral_spikes))"
   ]
  },
  {
   "cell_type": "code",
   "execution_count": 9,
   "metadata": {},
   "outputs": [],
   "source": [
    "this_data = merged_fitness_data\n",
    "this_data = this_data.replace([np.inf, -np.inf], np.nan)\n",
    "# this_data = this_data.dropna('columns',how='all')\n",
    "this_data = this_data.dropna()\n",
    "\n",
    "this_data = this_data.sort_values('barcode')\n",
    "\n",
    "m3_cols = [col + '_fitness' for col in m3_conditions]\n",
    "m3_conditions = m3_cols\n",
    "\n",
    "nonm3_cols = [col + '_fitness' for col in bigbatch_conditions.keys() if (col + '_fitness') not in m3_cols]\n",
    "nonm3_cols = nonm3_cols + [col + '_fitness' for col in old_nonm3_conditions.keys()]\n",
    "nonm3_conditions = nonm3_cols\n",
    "\n",
    "fitness_cols = m3_cols + nonm3_cols\n",
    "\n",
    "fitness = this_data[fitness_cols].values\n",
    "\n",
    "n_mutants = fitness.shape[0]\n",
    "n_conditions = fitness.shape[1]\n",
    "\n"
   ]
  },
  {
   "cell_type": "code",
   "execution_count": 10,
   "metadata": {},
   "outputs": [
    {
     "data": {
      "text/plain": [
       "([<matplotlib.axis.YTick at 0x109262550>,\n",
       "  <matplotlib.axis.YTick at 0x115a90358>,\n",
       "  <matplotlib.axis.YTick at 0x115aa65f8>,\n",
       "  <matplotlib.axis.YTick at 0x115ae1358>,\n",
       "  <matplotlib.axis.YTick at 0x115ae17f0>,\n",
       "  <matplotlib.axis.YTick at 0x115ae1cf8>],\n",
       " <a list of 6 Text yticklabel objects>)"
      ]
     },
     "execution_count": 10,
     "metadata": {},
     "output_type": "execute_result"
    },
    {
     "data": {
      "image/png": "[encoded data removed]",
      "text/plain": [
       "<Figure size 432x288 with 1 Axes>"
      ]
     },
     "metadata": {},
     "output_type": "display_data"
    }
   ],
   "source": [
    "used_mutants = [bc for bc in this_data['barcode'].values if bc in (list(minimal_wothers_training_bcs) + list(minimal_wothers_testing_bcs))]\n",
    "# used_mutants = [bc for bc in this_data['barcode'].values]\n",
    "\n",
    "all_mut_locs = sorted(list(np.where(np.isin(this_data['barcode'].values,used_mutants))[0]))\n",
    "\n",
    "counts = np.unique(this_data['mutation_type'].values[all_mut_locs],return_counts=True)\n",
    "\n",
    "like_mutant_count_dict = {mut_type:count for mut_type,count in zip(*counts)}\n",
    "\n",
    "like_mutant_count = [like_mutant_count_dict[mut_type] for mut_type in this_data['mutation_type'].values[all_mut_locs]]\n",
    "like_mutant_count_m3 = np.repeat(like_mutant_count,len(m3_cols)).reshape(len(like_mutant_count),len(m3_cols))\n",
    "like_mutant_count_nonm3 = np.repeat(like_mutant_count,len(nonm3_cols)).reshape(len(like_mutant_count),len(nonm3_cols))     \n",
    "# rel_mutant_count_m3 = \n",
    "\n",
    "m3_means = np.nanmean(this_data[m3_cols].values[all_mut_locs,:],axis=1)\n",
    "m3_stds = np.nanstd(this_data[m3_cols].values[all_mut_locs,:],axis=1)\n",
    "\n",
    "repeated_means = np.repeat(m3_means,len(nonm3_cols)).reshape(len(m3_means),len(nonm3_cols))\n",
    "repeated_stds = np.repeat(m3_stds,len(nonm3_cols)).reshape(len(m3_stds),len(nonm3_cols))\n",
    "nonm3_z_scores = np.abs((this_data[nonm3_cols].values[all_mut_locs,:]-repeated_means)/repeated_stds)\n",
    "\n",
    "repeated_means = np.repeat(m3_means,len(m3_cols)).reshape(len(m3_means),len(m3_cols))\n",
    "repeated_stds = np.repeat(m3_stds,len(m3_cols)).reshape(len(m3_stds),len(m3_cols))\n",
    "m3_z_scores = np.abs((this_data[m3_cols].values[all_mut_locs,:]-repeated_means)/repeated_stds)\n",
    "\n",
    "mean_m3_z_scores = np.sum(m3_z_scores/like_mutant_count_m3,axis=0)/len(counts[0])\n",
    "mean_nonm3_z_scores = np.sum(nonm3_z_scores/like_mutant_count_nonm3,axis=0)/len(counts[0])\n",
    "\n",
    "plt.figure()\n",
    "\n",
    "sorted_nonm3_cols = np.asarray(nonm3_cols)[np.argsort(np.sum(nonm3_z_scores/like_mutant_count_nonm3,axis=0)/len(counts[0]))]\n",
    "sorted_m3_cols = np.asarray(m3_cols)[np.argsort(np.sum(m3_z_scores/like_mutant_count_m3,axis=0)/len(counts[0]))]\n",
    "\n",
    "sorted_mean_m3_z_scores = sorted(np.sum(m3_z_scores/like_mutant_count_m3,axis=0)/len(counts[0]))\n",
    "sorted_mean_nonm3_z_scores = sorted(np.sum(nonm3_z_scores/like_mutant_count_nonm3,axis=0)/len(counts[0]))\n",
    "\n",
    "plt.plot(sorted_mean_m3_z_scores+sorted_mean_nonm3_z_scores,'-',color='k',alpha=1.0,label='Balanced Mutant Set')\n",
    "\n",
    "all_cols = list(sorted_m3_cols)+list(sorted_nonm3_cols)\n",
    "plt.xticks(range(len(all_cols)),[renamed_conditions[col.split('_fitness')[0]] for col in (all_cols)],rotation=90)\n",
    "\n",
    "\n",
    "plt.legend()\n",
    "# plt.ylim(0,7)\n",
    "plt.xlim(-1,len(m3_conditions)+len(nonm3_conditions)-0.5)\n",
    "plt.ylabel('Average Z Score for\\nBalanced Collection')\n",
    "plt.xlabel('Condition')\n",
    "\n",
    "plt.tight_layout()\n",
    "plt.axhline(2,color='k',linestyle='--',alpha=0.5)\n",
    "plt.yticks(range(0,16,3),range(0,16,3))\n",
    "# plt.savefig('z_scores_minimal_comparison.pdf',bbox_inches='tight')"
   ]
  },
  {
   "cell_type": "code",
   "execution_count": 11,
   "metadata": {},
   "outputs": [
    {
     "name": "stdout",
     "output_type": "stream",
     "text": [
      "subtle:  ['M3_Batch_23_fitness', 'M3_Batch_6_fitness', 'M3_Batch_18_fitness', 'M3_Batch_3_fitness', 'M3_Batch_20_fitness', 'M3_Batch_13_fitness', '19_fitness', '1BB_M3_fitness', 'M3_Batch_21_fitness', '1BB_1.4%Gluc_fitness', 'Ferm_44hr_Transfer_fitness', '1BB_1%Gly_fitness', '1BB_1.8%Gluc_fitness', '1.4%_fitness', 'Geldanamycin8.5uM_fitness', '1BB_0.5%Raf_fitness', '1BB_1%Raf_fitness', '1.5%_fitness', 'Ferm_40hr_Transfer_fitness', '1BB_Baffle_fitness', '1.6%_fitness', '1BB_2ugFlu_fitness', 'Ferm_50hr_Transfer_fitness', '1.7%_fitness', 'DMSO_fitness']\n",
      "strong:  ['1BB_17uMGdA_fitness', '1.8%_fitness', 'Ferm_54hr_Transfer_fitness', 'Resp_3Day_Transfer_fitness', 'Resp_24hr_Transfer_fitness', '1BB_1%EtOH_fitness', '1BB_8.5uMGdA_fitness', 'Resp_4Day_Transfer_fitness', '1BB_SucRaf_fitness', '2.5%_fitness', 'Resp_5Day_Transfer_fitness', '1BB_0.2MNaCl_fitness', '1BB_0.2MKCl_fitness', '1BB_0.5ugFlu_fitness', 'Resp_6Day_Transfer_fitness', 'Ben0.4_fitness', 'Ben2_fitness', 'Resp_7Day_Transfer_fitness', '1BB_0.5MKCl_fitness', '1BB_0.5MNaCl_fitness']\n"
     ]
    },
    {
     "name": "stderr",
     "output_type": "stream",
     "text": [
      "/Library/Frameworks/Python.framework/Versions/3.6/lib/python3.6/site-packages/scipy/linalg/basic.py:1226: RuntimeWarning: internal gelsd driver lwork query error, required iwork dimension not returned. This is likely the result of LAPACK bug 0038, fixed in LAPACK 3.2.2 (released July 21, 2010). Falling back to 'gelss' driver.\n",
      "  warnings.warn(mesg, RuntimeWarning)\n"
     ]
    },
    {
     "name": "stdout",
     "output_type": "stream",
     "text": [
      "1 0.5059630450118833\n",
      "2 0.720914688061188\n",
      "3 0.7218324352679876\n",
      "4 0.7078893156633462\n",
      "5 0.6910012819923146\n",
      "6 0.7089221529651355\n",
      "7 0.7291859055778047\n",
      "8 0.7823171944752093\n",
      "9 0.7883347004443251\n",
      "10 0.759307752672688\n",
      "11 0.7552700876697782\n",
      "12 0.7521061736885813\n",
      "13 0.7391640115573719\n",
      "14 0.7409404538136157\n",
      "15 0.7539421203447269\n",
      "16 0.745985104130915\n",
      "17 0.7618703193637425\n",
      "18 0.7505280405948825\n",
      "19 0.7392601432232723\n",
      "20 0.720524725553906\n",
      "21 0.7208185491547798\n",
      "22 0.7019016290016626\n",
      "23 0.6743507824893442\n",
      "24 0.6681773843011426\n",
      "25 0.447427576929617\n"
     ]
    }
   ],
   "source": [
    "# last_subtle = 17\n",
    "first_nonsubtle = np.where(np.asarray(sorted_mean_nonm3_z_scores) > 2.0)[0][0]\n",
    "print('subtle: ',list(sorted_m3_cols) + list(sorted_nonm3_cols[:first_nonsubtle]))\n",
    "print('strong: ',list(sorted_nonm3_cols[first_nonsubtle:]))\n",
    "\n",
    "this_data = merged_fitness_data\n",
    "this_data = this_data.replace([np.inf, -np.inf], np.nan)\n",
    "this_data = this_data.dropna('columns',how='all')\n",
    "this_data = this_data.dropna()\n",
    "this_data = this_data.sort_values('barcode')\n",
    "\n",
    "datasets = {}\n",
    "\n",
    "gene_list = ['IRA1_nonsense','GPB2','PDE2','Diploid','ExpNeutral']\n",
    "\n",
    "# datasets['subtle_to_strong_wothers'] = tools.situate_data(this_data,list(sorted_m3_cols) + list(sorted_nonm3_cols[:first_nonsubtle]),list(sorted_nonm3_cols[first_nonsubtle:]),\n",
    "#                   minimal_wothers_training_bcs,minimal_wothers_testing_bcs,gene_list)\n",
    "datasets['subtle_to_strong_wothers_fixed_mutants'] = tools.situate_data(this_data,list(sorted_m3_cols) + list(sorted_nonm3_cols[:first_nonsubtle]),list(sorted_nonm3_cols[first_nonsubtle:]),\n",
    "                  minimal_wothers_training_bcs,minimal_wothers_testing_bcs,gene_list,fixed_mutant_sets=True)\n",
    "\n",
    "\n"
   ]
  },
  {
   "cell_type": "code",
   "execution_count": 12,
   "metadata": {},
   "outputs": [],
   "source": [
    "model = 8\n",
    "\n",
    "mutant_locs = datasets['subtle_to_strong_wothers_fixed_mutants']['mut_locs'][model-1]\n",
    "condition_locs = datasets['subtle_to_strong_wothers_fixed_mutants']['cond_locs'][model-1]\n",
    "\n",
    "all_conditions = list(sorted_m3_cols) + list(sorted_nonm3_cols[:first_nonsubtle]) + list(sorted_nonm3_cols[first_nonsubtle:])\n",
    "\n",
    "subtle = list(sorted_m3_cols) + list(sorted_nonm3_cols[:first_nonsubtle])\n",
    "\n",
    "train_m = datasets['subtle_to_strong_wothers_fixed_mutants']['train'][1]\n",
    "\n",
    "mutant_locs = mutant_locs[train_m,:]\n",
    "condition_locs = condition_locs[:len(subtle)]"
   ]
  },
  {
   "cell_type": "code",
   "execution_count": 13,
   "metadata": {},
   "outputs": [
    {
     "data": {
      "text/plain": [
       "(25, 8)"
      ]
     },
     "execution_count": 13,
     "metadata": {},
     "output_type": "execute_result"
    }
   ],
   "source": [
    "mutant_locs.shape\n",
    "condition_locs.shape"
   ]
  },
  {
   "cell_type": "code",
   "execution_count": 14,
   "metadata": {},
   "outputs": [],
   "source": [
    "data = this_data[this_data['barcode'].isin(list(minimal_wothers_training_bcs))]\n",
    "this_error = data[[col.replace('_fitness','_error') for col in subtle]].values\n",
    "this_fitness = data[[col for col in subtle]].values"
   ]
  },
  {
   "cell_type": "code",
   "execution_count": null,
   "metadata": {},
   "outputs": [],
   "source": [
    "ax = plt.subplot(111)\n",
    "\n",
    "tools.svd_noise_comparison_figure(ax,this_fitness,this_error,10000,yscale='log')"
   ]
  },
  {
   "cell_type": "code",
   "execution_count": 150,
   "metadata": {},
   "outputs": [],
   "source": [
    "new_component = model-1\n",
    "n_new_components = 1\n",
    "scale_factors = np.linspace(0.5,1.0,11)\n",
    "# scale_factors = [1.0,10.0,100.0]\n",
    "n_iterations = 100\n",
    "\n",
    "data = this_data[this_data['barcode'].isin(used_mutants)]\n",
    "this_error = data[[col.replace('_fitness','_error') for col in subtle]].values[train_m,:]\n",
    "this_fitness = data[[col for col in subtle]].values[train_m,:]\n",
    "\n",
    "n_detected = {}\n",
    "\n",
    "for scale_factor in scale_factors:\n",
    "    n_detected[scale_factor] =[]\n",
    "    for iteration in range(n_iterations):\n",
    "\n",
    "        mutant_new_components = [np.random.permutation(mutant_locs[:,new_component]) for i in range(n_new_components)]\n",
    "        condition_new_components = [scale_factor*np.random.permutation(condition_locs[:,new_component])  for i in range(n_new_components)]\n",
    "\n",
    "        new_m_locs = np.append(mutant_locs,np.asarray(mutant_new_components).swapaxes(0,1),axis=1)\n",
    "        new_c_locs = np.append(condition_locs,np.asarray(condition_new_components).swapaxes(0,1),axis=1)\n",
    "\n",
    "        new_fitness = np.dot(new_m_locs,new_c_locs.T)\n",
    "\n",
    "        error_pull = np.random.normal(0,this_error)\n",
    "\n",
    "        new_w_noise = new_fitness + error_pull\n",
    "\n",
    "        max_detected = tools.svd_noise_comparison_detection(new_w_noise,this_error,100)\n",
    "        n_detected[scale_factor].append(max_detected)\n",
    "\n",
    "fracs = {}\n",
    "\n",
    "for scale_factor in scale_factors:\n",
    "      \n",
    "    this_set = np.unique(n_detected[scale_factor],return_counts=True)\n",
    "    print(this_set)\n",
    "    this_dict = {d:count for d,count in zip(this_set[0],this_set[1])}\n",
    "    if model+n_new_components not in this_dict.keys():\n",
    "        this_dict[model+n_new_components] = 0\n",
    "    print(this_dict)\n",
    "    total = np.sum(this_set[1])\n",
    "    print(total)\n",
    "    frac = this_dict[model+n_new_components]/total\n",
    "    print(model+n_new_components)\n",
    "    print(frac)\n",
    "    fracs[scale_factor] = frac"
   ]
  },
  {
   "cell_type": "code",
   "execution_count": 152,
   "metadata": {},
   "outputs": [
    {
     "data": {
      "text/plain": [
       "[<matplotlib.lines.Line2D at 0x1474f29b0>]"
      ]
     },
     "execution_count": 152,
     "metadata": {},
     "output_type": "execute_result"
    },
    {
     "data": {
      "image/png": "[encoded data removed]",
      "text/plain": [
       "<Figure size 432x288 with 1 Axes>"
      ]
     },
     "metadata": {},
     "output_type": "display_data"
    }
   ],
   "source": [
    "plt.plot(fracs.values())"
   ]
  },
  {
   "cell_type": "code",
   "execution_count": 136,
   "metadata": {},
   "outputs": [
    {
     "name": "stdout",
     "output_type": "stream",
     "text": [
      "[0.8136159899409312, 0.9037666913551748, 0.9521775238342323, 0.9670600366632073, 0.9776038380913612, 0.9865823212981021, 0.9927048899374116, 0.9968170222613411, 1.0, 1.0, 1.0, 1.0, 1.0, 1.0, 1.0, 1.0, 1.0, 1.0, 1.0, 1.0, 1.0, 1.0, 1.0, 1.0, 1.0]\n"
     ]
    },
    {
     "data": {
      "text/plain": [
       "[<matplotlib.lines.Line2D at 0x13b0c0da0>]"
      ]
     },
     "execution_count": 136,
     "metadata": {},
     "output_type": "execute_result"
    },
    {
     "data": {
      "image/png": "[encoded data removed]",
      "text/plain": [
       "<Figure size 432x288 with 1 Axes>"
      ]
     },
     "metadata": {},
     "output_type": "display_data"
    }
   ],
   "source": [
    "print(tools.SVD_fits(np.dot(mutant_locs,condition_locs.T))[0])\n",
    "plt.plot(tools.SVD_fits(np.dot(mutant_locs,condition_locs.T))[0])"
   ]
  },
  {
   "cell_type": "code",
   "execution_count": null,
   "metadata": {},
   "outputs": [],
   "source": [
    "model = 8\n",
    "\n",
    "new_components = range(model)\n",
    "# new_components = [0]\n",
    "n_new_components = 1\n",
    "n_iterations = 5?\n",
    "\n",
    "\n",
    "\n",
    "data = this_data[this_data['barcode'].isin(used_mutants)]\n",
    "this_error = data[[col.replace('_fitness','_error') for col in subtle]].values[train_m,:]\n",
    "this_fitness = data[[col for col in subtle]].values[train_m,:]\n",
    "\n",
    "n_detected = {}\n",
    "\n",
    "U,s,V = np.linalg.svd(this_fitness)\n",
    "\n",
    "print(s)\n",
    "print(U.shape)\n",
    "print(V.shape)\n",
    "\n",
    "mutant_locs = U[:,:model]\n",
    "condition_locs = V[:model,:].T\n",
    "old_s = np.diag(s[:model])\n",
    "\n",
    "a = 2\n",
    "\n",
    "for new_component in new_components:\n",
    "    n_detected[new_component] =[]\n",
    "    plt.figure()\n",
    "    plt.plot(s,marker='o',color='k')\n",
    "    for iteration in range(n_iterations):\n",
    "        \n",
    "#         print(np.mean(U[:,new_component]))\n",
    "#         print(np.std(U[:,new_component]))\n",
    "        \n",
    "#         mutant_new_components = [np.random.normal(np.mean(U[:,new_component]),a*np.std(U[:,new_component]),size=len(U[:,new_component])) for i in range(n_new_components)]\n",
    "#         condition_new_components = [np.random.normal(np.mean(V[:,new_component]),a*np.std(V[:,new_component]),size=len(V[:,new_component])) for i in range(n_new_components)]\n",
    "        mutant_new_components = [np.random.permutation(U[:,new_component]) for i in range(n_new_components)]\n",
    "        condition_new_components = [np.random.permutation(V[:,new_component]) for i in range(n_new_components)]\n",
    "        \n",
    "        new_m_locs = np.append(mutant_locs,np.asarray(mutant_new_components).swapaxes(0,1),axis=1)\n",
    "        new_c_locs = np.append(condition_locs,np.asarray(condition_new_components).swapaxes(0,1),axis=1)\n",
    "        new_s = np.diag(np.append(s[:model],[s[new_component] for i in range(n_new_components)]))\n",
    "        \n",
    "        new_fitness = np.dot(np.dot(new_m_locs,new_s),new_c_locs.T)\n",
    "\n",
    "        error_pull = np.random.normal(0,this_error)\n",
    "\n",
    "        new_w_noise = new_fitness + error_pull\n",
    "        \n",
    "        this_u,this_s,this_v = np.linalg.svd(new_w_noise)\n",
    "#         print(this_s)\n",
    "        plt.plot(this_s,marker='o',color='gray',alpha=0.1)\n",
    "        \n",
    "        \n",
    "        \n",
    "\n",
    "        max_detected = tools.svd_noise_comparison_detection(new_w_noise,this_error,100)\n",
    "        n_detected[new_component].append(max_detected)\n",
    "    plt.yscale('log')\n",
    "    print(this_s)\n",
    "\n",
    "# fracs = {}\n",
    "\n",
    "# for new_component in new_components:\n",
    "      \n",
    "#     this_set = np.unique(n_detected[new_component],return_counts=True)\n",
    "#     print(this_set)\n",
    "#     this_dict = {d:count for d,count in zip(this_set[0],this_set[1])}\n",
    "#     if model+n_new_components not in this_dict.keys():\n",
    "#         this_dict[model+n_new_components] = 0\n",
    "#     print(this_dict)\n",
    "#     total = np.sum(this_set[1])\n",
    "#     print(total)\n",
    "#     frac = this_dict[model+n_new_components]/total\n",
    "#     print(model+n_new_components)\n",
    "#     print(frac)\n",
    "#     fracs[new_component] = frac"
   ]
  },
  {
   "cell_type": "code",
   "execution_count": null,
   "metadata": {},
   "outputs": [],
   "source": [
    "corrs = []\n",
    "\n",
    "for i in range(10):\n",
    "\n",
    "    corrs.append(np.corrcoef(U[:,new_component],np.random.permutation(U[:,new_component]))[0,1])\n",
    "    \n",
    "this_perm = np.random.permutation(U[:,new_component])\n",
    "for i in range(model):\n",
    "    print(np.corrcoef(U[:,model],this_perm)[0,1])\n",
    "    \n",
    "sns.distplot(corrs)\n",
    "sns.distplot(np.abs(corrs))\n",
    "print(np.mean(np.abs(corrs)))\n",
    "\n",
    "for i in range(10):\n",
    "\n",
    "    corrs.append(np.corrcoef(V[:,new_component],np.random.permutation(V[:,new_component]))[0,1])\n",
    "    \n",
    "sns.distplot(corrs)\n",
    "sns.distplot(np.abs(corrs))\n",
    "np.mean(np.abs(corrs))"
   ]
  },
  {
   "cell_type": "code",
   "execution_count": null,
   "metadata": {
    "scrolled": true
   },
   "outputs": [],
   "source": [
    "fracs = {}\n",
    "\n",
    "for new_component in new_components:\n",
    "    print(new_component)\n",
    "    this_set = np.unique(n_detected[new_component],return_counts=True)\n",
    "    print(this_set)\n",
    "    this_dict = {d:count for d,count in zip(this_set[0],this_set[1])}\n",
    "    if model+n_new_components not in this_dict.keys():\n",
    "        this_dict[model+n_new_components] = 0\n",
    "    print(this_dict)\n",
    "    total = np.sum(this_set[1])\n",
    "    print(total)\n",
    "    frac = this_dict[model+n_new_components]/total\n",
    "    print(model+n_new_components)\n",
    "    print(frac)\n",
    "    fracs[new_component] = frac"
   ]
  },
  {
   "cell_type": "code",
   "execution_count": null,
   "metadata": {},
   "outputs": [],
   "source": [
    "plt.plot(fracs.values())"
   ]
  },
  {
   "cell_type": "code",
   "execution_count": 85,
   "metadata": {},
   "outputs": [
    {
     "name": "stdout",
     "output_type": "stream",
     "text": [
      "0.0004261454081914623 0.00013921147230407563 0.3266759881207719\n",
      "9\n",
      "0.0005606597093178958 0.00019574988592717995 0.34914206010153864\n",
      "8\n",
      "0.0005257116969838376 0.00040692480120707776 0.7740455529936368\n",
      "8\n"
     ]
    },
    {
     "data": {
      "text/plain": [
       "<matplotlib.axes._subplots.AxesSubplot at 0x1255d0f60>"
      ]
     },
     "execution_count": 85,
     "metadata": {},
     "output_type": "execute_result"
    },
    {
     "data": {
      "image/png": "[encoded data removed]",
      "text/plain": [
       "<Figure size 864x288 with 3 Axes>"
      ]
     },
     "metadata": {},
     "output_type": "display_data"
    }
   ],
   "source": [
    "plt.figure(figsize=(12,4))\n",
    "\n",
    "ax = plt.subplot(131)\n",
    "\n",
    "tools.svd_noise_comparison_figure(ax,new_w_noise,this_error,1000,yscale='log')\n",
    "\n",
    "ax = plt.subplot(132)\n",
    "\n",
    "old_w_noise = np.dot(np.dot(mutant_locs,old_s),condition_locs.T) + error_pull\n",
    "\n",
    "tools.svd_noise_comparison_figure(ax,old_w_noise,this_error,1000,yscale='log')\n",
    "\n",
    "ax = plt.subplot(133)\n",
    "\n",
    "# old_w_noise = this_fitness + error_pull\n",
    "\n",
    "tools.svd_noise_comparison_figure(ax,this_fitness,this_error,1000,yscale='log')"
   ]
  },
  {
   "cell_type": "code",
   "execution_count": 80,
   "metadata": {},
   "outputs": [
    {
     "data": {
      "text/plain": [
       "array([[21.50862704,  0.        ,  0.        ,  0.        ,  0.        ,\n",
       "         0.        ,  0.        ,  0.        ,  0.        ],\n",
       "       [ 0.        ,  2.33845996,  0.        ,  0.        ,  0.        ,\n",
       "         0.        ,  0.        ,  0.        ,  0.        ],\n",
       "       [ 0.        ,  0.        ,  1.71362843,  0.        ,  0.        ,\n",
       "         0.        ,  0.        ,  0.        ,  0.        ],\n",
       "       [ 0.        ,  0.        ,  0.        ,  0.95013106,  0.        ,\n",
       "         0.        ,  0.        ,  0.        ,  0.        ],\n",
       "       [ 0.        ,  0.        ,  0.        ,  0.        ,  0.79973111,\n",
       "         0.        ,  0.        ,  0.        ,  0.        ],\n",
       "       [ 0.        ,  0.        ,  0.        ,  0.        ,  0.        ,\n",
       "         0.73798387,  0.        ,  0.        ,  0.        ],\n",
       "       [ 0.        ,  0.        ,  0.        ,  0.        ,  0.        ,\n",
       "         0.        ,  0.6094137 ,  0.        ,  0.        ],\n",
       "       [ 0.        ,  0.        ,  0.        ,  0.        ,  0.        ,\n",
       "         0.        ,  0.        ,  0.49943494,  0.        ],\n",
       "       [ 0.        ,  0.        ,  0.        ,  0.        ,  0.        ,\n",
       "         0.        ,  0.        ,  0.        ,  0.49943494]])"
      ]
     },
     "execution_count": 80,
     "metadata": {},
     "output_type": "execute_result"
    }
   ],
   "source": [
    "new_s"
   ]
  },
  {
   "cell_type": "code",
   "execution_count": null,
   "metadata": {},
   "outputs": [],
   "source": []
  }
 ],
 "metadata": {
  "kernelspec": {
   "display_name": "Python 3",
   "language": "python",
   "name": "python3"
  }
 },
 "nbformat": 4,
 "nbformat_minor": 2
}
