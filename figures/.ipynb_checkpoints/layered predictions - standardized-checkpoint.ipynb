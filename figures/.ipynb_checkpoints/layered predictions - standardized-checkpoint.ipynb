{
 "cells": [
  {
   "cell_type": "code",
   "execution_count": 1,
   "metadata": {},
   "outputs": [],
   "source": [
    "%load_ext autoreload\n",
    "%autoreload 2\n",
    "import numpy as np\n",
    "import pandas as p\n",
    "import seaborn as sns\n",
    "import matplotlib.pyplot as plt\n",
    "from scipy.stats import pearsonr\n",
    "from scipy.spatial import distance\n",
    "from scipy.stats.mstats import gmean\n",
    "from sklearn.linear_model import LinearRegression\n",
    "%matplotlib inline\n",
    "from itertools import combinations\n",
    "from itertools import chain\n",
    "import sys\n",
    "import os\n",
    "import copy\n",
    "sns.set_style('white')\n",
    "sns.set_style('ticks')\n",
    "sns.set_color_codes()\n",
    "\n",
    "fgm_simulation_path = '/Users/grantkinsler/Documents/Stanford/Research/StarryNight/Git/starry-night/Simulations/FGM_simulation_callable.py'\n",
    "sys.path.append(os.path.dirname(os.path.expanduser(fgm_simulation_path)))\n",
    "from FGM_simulation_callable import simulation, nball_pull, gaussian_fitness\n",
    "\n",
    "tools_path = '../code/tools.py'\n",
    "sys.path.append(os.path.dirname(os.path.expanduser(tools_path)))\n",
    "import tools\n",
    "from tools import mutant_colorset\n",
    "from tools import condition_colorset"
   ]
  },
  {
   "cell_type": "code",
   "execution_count": 2,
   "metadata": {},
   "outputs": [],
   "source": [
    "np.random.seed(953527608) # for exact figure reproducibility use this seed\n",
    "# np.random.seed(None)"
   ]
  },
  {
   "cell_type": "code",
   "execution_count": 3,
   "metadata": {},
   "outputs": [],
   "source": [
    "cov_thresh = 1e6\n",
    "fitness_data = p.read_csv('../data/fitnesses_merged_NoWeight_resample1000000.csv')"
   ]
  },
  {
   "cell_type": "code",
   "execution_count": 4,
   "metadata": {},
   "outputs": [],
   "source": [
    "mutant_train_set = p.read_csv('../data/mutant_train_set.csv')\n",
    "training_bcs = mutant_train_set['barcode'].values"
   ]
  },
  {
   "cell_type": "code",
   "execution_count": 5,
   "metadata": {},
   "outputs": [],
   "source": [
    "old_conditions = {\n",
    "                  '3':['3.1','3.2','3.3'],\n",
    "                  '6':['6.1','6.2','6.3'],\n",
    "                  '13':['13.1','13.2','13.3'],\n",
    "                  '18':['18.1','18.2','18.3'],\n",
    "                  '20':['20.1','20.2','20.3'],\n",
    "                  '21':['21.1','21.2','21.3'],\n",
    "                  '23':['23.1','23.2','23.3']\n",
    "                 }\n",
    "\n",
    "bigbatch_conditions = {\n",
    "                        '1BB_M3':['A','B','C','D'],\n",
    "                        '1BB_Baffle':['E','F'],\n",
    "                        '1BB_1.4%Gluc' :['G','H'],\n",
    "                        '1BB_1.8%Gluc' :['I','J'],\n",
    "#                         '1BB_0.2MNaCl' :['K','L'],\n",
    "#                         '1BB_0.2MKCl' :['O'],\n",
    "#                         '1BB_0.5MKCl' :['P'],\n",
    "#                         '1BB_8.5uMGdA' :['Q','R'],\n",
    "#                         '1BB_17uMGdA' :['S','T'],\n",
    "#                         '1BB_2ugFlu' :['U','V'],\n",
    "#                         '1BB_0.5ugFlu' :['W','X'],\n",
    "                        '1BB_1%Raf' :['Y','Z'],\n",
    "                        '1BB_0.5%Raf' :['AA','BB'],\n",
    "                        '1BB_1%Gly' :['CC','DD'],\n",
    "#                         '1BB_1%EtOH' :['EE','FF'],\n",
    "#                         '1BB_SucRaf' :['GG'],\n",
    "                      }\n",
    "\n",
    "\n",
    "# m3_conditions = {**old_conditions,}\n",
    "conditions = {**old_conditions, **bigbatch_conditions}\n",
    "all_conditions = conditions.keys()\n",
    "all_reps = [rep for reps in conditions.values() for rep in reps]\n",
    "\n",
    "m3_conditions = list(old_conditions.keys()) + ['1BB_M3']\n",
    "m3_reps = [rep for condition in m3_conditions for rep in conditions[condition]]\n"
   ]
  },
  {
   "cell_type": "code",
   "execution_count": 35,
   "metadata": {},
   "outputs": [],
   "source": [
    "this_data = fitness_data\n",
    "this_data = this_data.replace([np.inf, -np.inf], np.nan)\n",
    "this_data = this_data.dropna('columns',how='all')\n",
    "this_data = this_data.dropna()\n",
    "\n",
    "this_data = this_data.sort_values('barcode')\n",
    "\n",
    "fitness_cols = [col for col in this_data.columns if '_fitness' in col]\n",
    "\n",
    "fitness = this_data[fitness_cols].values\n",
    "\n",
    "# converting instead to correlation matrix!!!\n",
    "fitness = (fitness - np.mean(fitness,axis=0))/np.std(fitness,axis=0)\n",
    "\n",
    "# use only rank\n",
    "fitness = np.asarray([scipy.stats.rankdata(fitness[:,i]) for i in range(fitness.shape[1])]).swapaxes(0,1)\n",
    "\n",
    "\n",
    "\n",
    "n_mutants = fitness.shape[0]\n",
    "n_conditions = fitness.shape[1]\n",
    "\n"
   ]
  },
  {
   "cell_type": "code",
   "execution_count": 34,
   "metadata": {},
   "outputs": [
    {
     "data": {
      "text/plain": [
       "(8823, 224)"
      ]
     },
     "execution_count": 34,
     "metadata": {},
     "output_type": "execute_result"
    }
   ],
   "source": [
    "np.asarray(fitness).shape"
   ]
  },
  {
   "cell_type": "code",
   "execution_count": 36,
   "metadata": {},
   "outputs": [],
   "source": [
    "nonM3_1bb_conditions =       {\n",
    "#                         '1BB_M3':['A','B','C','D'],\n",
    "                        '1BB_Baffle':['E','F'],\n",
    "                        '1BB_1.4%Gluc' :['G','H'],\n",
    "                        '1BB_1.8%Gluc' :['I','J'],\n",
    "                        '1BB_0.2MNaCl' :['K','L'],\n",
    "                        '1BB_0.2MKCl' :['O'],\n",
    "                        '1BB_0.5MKCl' :['P'],\n",
    "                        '1BB_8.5uMGdA' :['Q','R'],\n",
    "                        '1BB_17uMGdA' :['S','T'],\n",
    "                        '1BB_2ugFlu' :['U','V'],\n",
    "                        '1BB_0.5ugFlu' :['W','X'],\n",
    "                        '1BB_1%Raf' :['Y','Z'],\n",
    "                        '1BB_0.5%Raf' :['AA','BB'],\n",
    "                        '1BB_1%Gly' :['CC','DD']}\n",
    "nonM3_1bb_reps = [rep for reps in nonM3_1bb_conditions.values() for rep in reps]\n",
    "\n",
    "test_conditions =       {\n",
    "#                         '1BB_M3':['A','B','C','D'],\n",
    "                        '1BB_Baffle':['E','F'],\n",
    "                        '1BB_1.4%Gluc' :['G','H'],\n",
    "                        '1BB_1.8%Gluc' :['I','J'],\n",
    "#                         '1BB_0.2MNaCl' :['K','L'],\n",
    "#                         '1BB_0.2MKCl' :['O'],\n",
    "#                         '1BB_0.5MKCl' :['P'],\n",
    "#                         '1BB_8.5uMGdA' :['Q','R'],\n",
    "#                         '1BB_17uMGdA' :['S','T'],\n",
    "#                         '1BB_2ugFlu' :['U','V'],\n",
    "#                         '1BB_0.5ugFlu' :['W','X'],\n",
    "                        '1BB_1%Raf' :['Y','Z'],\n",
    "                        '1BB_0.5%Raf' :['AA','BB'],\n",
    "                        '1BB_1%Gly' :['CC','DD']}\n",
    "test_reps = [rep for reps in test_conditions.values() for rep in reps]\n",
    "test_conditions = [rep+'_original_fitness' for reps in test_conditions.values() for rep in reps]\n",
    "\n",
    "\n",
    "test_locs = np.where(np.isin(fitness_cols,test_conditions))[0]\n"
   ]
  },
  {
   "cell_type": "code",
   "execution_count": 37,
   "metadata": {},
   "outputs": [
    {
     "data": {
      "text/plain": [
       "['E', 'F', 'G', 'H', 'I', 'J', 'Y', 'Z', 'AA', 'BB', 'CC', 'DD']"
      ]
     },
     "execution_count": 37,
     "metadata": {},
     "output_type": "execute_result"
    }
   ],
   "source": [
    "test_reps"
   ]
  },
  {
   "cell_type": "code",
   "execution_count": 38,
   "metadata": {},
   "outputs": [],
   "source": [
    "resample_names = np.unique([col.split('_resample')[0] for col in fitness_cols if 'resample' in col and col[0] not in nonM3_1bb_reps])\n",
    "\n",
    "resample_predictions = {}\n",
    "\n",
    "for train_set in resample_names:\n",
    "    train_conditions = [col for col in fitness_cols if col.split('_resample')[0] == train_set]\n",
    "    train_locs = np.where(np.isin(fitness_cols,train_conditions))[0]\n",
    "    \n",
    "    all_locs = sorted(list(train_locs)+list(test_locs))\n",
    "    \n",
    "    this_fitness = fitness[:,all_locs]\n",
    "    new_train_locs = np.where(np.isin(all_locs,train_locs))[0]\n",
    "    new_test_locs = np.where(np.isin(all_locs,test_locs))[0]\n",
    "    \n",
    "    train = [new_train_locs,np.where(np.isin(this_data['barcode'].values,training_bcs))[0]]\n",
    "    test = [new_test_locs,np.where(~np.isin(this_data['barcode'].values,training_bcs))[0]]\n",
    "\n",
    "    by_rank, by_condition, by_mutant, mean_fits = tools.SVD_predictions_train_test(this_fitness,train,test,by_condition=False,by_mutant=False)\n",
    "\n",
    "    resample_predictions[train_set] = [max(by_rank),np.where(by_rank==max(by_rank))[0][0]]"
   ]
  },
  {
   "cell_type": "code",
   "execution_count": 39,
   "metadata": {},
   "outputs": [
    {
     "data": {
      "text/plain": [
       "{'13.1': [0.5671793116582659, 1],\n",
       " '13.1_T1to2': [0.5877337986025168, 1],\n",
       " '13.1_T2to3': [0.5565714410591911, 3],\n",
       " '13.1_T3to4': [0.44592020375175223, 0],\n",
       " '13.2': [0.5738691412718036, 0],\n",
       " '13.2_T1to2': [0.5701595097003538, 0],\n",
       " '13.2_T2to3': [0.6070567376742051, 0],\n",
       " '13.2_T3to4': [0.445419162737978, 8],\n",
       " '13.3': [0.4740348471370919, 3],\n",
       " '13.3_T3to4': [0.12737843522606784, 1],\n",
       " '18.1': [0.5224239250315232, 1],\n",
       " '18.1_T3to4': [0.5150739336405846, 0],\n",
       " '18.3': [0.5900712646878519, 0],\n",
       " '18.3_T2to3': [0.5065551851474105, 1],\n",
       " '18.3_T3to4': [0.5466952027773728, 0],\n",
       " '20.1': [0.38379884587267543, 0],\n",
       " '20.1_T2to3': [0.38755480053963665, 1],\n",
       " '20.2': [0.5633968844901225, 0],\n",
       " '20.2_T1to2': [0.28302773532027026, 0],\n",
       " '20.2_T2to3': [0.46641191091734313, 1],\n",
       " '20.2_T3to4': [0.2988128444873742, 2],\n",
       " '20.3': [0.604202295616519, 3],\n",
       " '20.3_T1to2': [0.3138920789342313, 6],\n",
       " '20.3_T2to3': [-0.1490222312766174, 2],\n",
       " '20.3_T3to4': [0.4009759791875236, 0],\n",
       " '21.1': [0.34767537073857324, 1],\n",
       " '21.1_T2to3': [0.3644919649665649, 3],\n",
       " '21.1_T3to4': [-0.16796162043318152, 2],\n",
       " '21.2': [-0.1742656463088046, 2],\n",
       " '21.2_T3to4': [-0.17245811567265923, 2],\n",
       " '21.3': [0.5232456319921728, 0],\n",
       " '21.3_T1to2': [0.4613558414100586, 1],\n",
       " '21.3_T2to3': [0.4070405733015464, 0],\n",
       " '21.3_T3to4': [0.4329333906455034, 0],\n",
       " '23.1': [0.6509573418499166, 1],\n",
       " '23.1_T1to2': [0.5661739059897513, 0],\n",
       " '23.1_T2to3': [0.3213261182749353, 4],\n",
       " '23.1_T3to4': [0.021919537682890344, 0],\n",
       " '23.2': [0.5045178131922433, 0],\n",
       " '23.2_T1to2': [0.4767541472615233, 1],\n",
       " '23.2_T2to3': [0.42557389638209653, 0],\n",
       " '23.2_T3to4': [0.6666122314507366, 3],\n",
       " '23.3': [0.5486580105971586, 0],\n",
       " '23.3_T1to2': [0.5294192417530843, 0],\n",
       " '23.3_T2to3': [0.617119467886162, 0],\n",
       " '23.3_T3to4': [0.31057779753747095, 0],\n",
       " '3.1': [0.4899066994628515, 0],\n",
       " '3.1_T1to2': [0.45748712129311153, 1],\n",
       " '3.1_T2to3': [0.38246050999538606, 0],\n",
       " '3.1_T3to4': [0.39987480781450435, 4],\n",
       " '3.2': [0.529921623743229, 1],\n",
       " '3.2_T1to2': [0.4367876063601489, 3],\n",
       " '3.2_T2to3': [0.42402321405858123, 2],\n",
       " '3.2_T3to4': [0.2979159867858533, 0],\n",
       " '3.3': [0.529461688719154, 0],\n",
       " '3.3_T1to2': [0.43925008624505546, 0],\n",
       " '3.3_T2to3': [0.4447393810497091, 5],\n",
       " '3.3_T3to4': [0.38135753673042005, 2],\n",
       " '6.1': [0.40839058768055414, 0],\n",
       " '6.1_T1to2': [0.4467163359596267, 0],\n",
       " '6.1_T2to3': [0.2898073178988353, 0],\n",
       " '6.1_T3to4': [0.3339625404446006, 3],\n",
       " '6.2': [0.4197103869480404, 2],\n",
       " '6.2_T3to4': [0.11642434926950018, 0],\n",
       " '6.3': [0.40987300622276013, 2],\n",
       " '6.3_T2to3': [0.3820544986996428, 4],\n",
       " '6.3_T3to4': [0.3284299704899676, 0],\n",
       " 'A': [0.6346271731167424, 0],\n",
       " 'A.DE1.PCRa.1-A.DE1.PCRa.2': [0.6678042167626067, 0],\n",
       " 'A.DE1.PCRa.1-A.DE1.PCRb.2': [0.43521157280165423, 1],\n",
       " 'A.DE1.PCRb.1-A.DE1.PCRa.2': [0.42881964351941937, 1],\n",
       " 'A.DE1.PCRb.1-A.DE1.PCRb.2': [0.6790336635268097, 0],\n",
       " 'AA': [0.7563298095407683, 0],\n",
       " 'AA_T0to1': [0.6810506874513265, 0],\n",
       " 'AA_T1to2': [0.7183286968286179, 0],\n",
       " 'A_T0to1': [0.4167729468001138, 0],\n",
       " 'A_T1to2': [0.6767490796198312, 0],\n",
       " 'A_T2to3': [0.5866880929772337, 3],\n",
       " 'A_T3to4': [0.4559495977780076, 0],\n",
       " 'B': [0.7219434100829273, 0],\n",
       " 'B.DE1.PCRa.0-B.DE2.PCRa.1': [0.4624464914252685, 0],\n",
       " 'B.DE1.PCRa.2-B.DE1.PCRa.3': [0.725865861824579, 1],\n",
       " 'B.DE1.PCRa.2-B.DE1.PCRc.3': [0.5811945834798009, 0],\n",
       " 'B.DE1.PCRa.3-B.DE1.PCRa.4': [0.4365993676695116, 1],\n",
       " 'B.DE1.PCRa.3-B.DE2.PCRa.4': [0.5792726875027021, 3],\n",
       " 'B.DE1.PCRa.3-B.DE3.PCRa.4': [0.36591257692319645, 0],\n",
       " 'B.DE1.PCRa.3-B.DE4.PCRa.4': [0.04837425105731208, 0],\n",
       " 'B.DE1.PCRc.2-B.DE1.PCRa.3': [0.4631897274002901, 0],\n",
       " 'B.DE1.PCRc.2-B.DE1.PCRc.3': [0.6850433159557459, 4],\n",
       " 'B.DE1.PCRc.3-B.DE1.PCRa.4': [0.33160523173419676, 0],\n",
       " 'B.DE1.PCRc.3-B.DE2.PCRa.4': [0.17859984844574983, 2],\n",
       " 'B.DE1.PCRc.3-B.DE3.PCRa.4': [0.4785873104933265, 0],\n",
       " 'B.DE1.PCRc.3-B.DE4.PCRa.4': [0.12736695090364347, 0],\n",
       " 'B.DE2.PCRa.0-B.DE2.PCRa.1': [0.5866299087141369, 0],\n",
       " 'B.DE2.PCRa.1-B.DE1.PCRa.2': [0.37540675559484327, 1],\n",
       " 'B.DE2.PCRa.1-B.DE1.PCRc.2': [0.5517337817178283, 1],\n",
       " 'B.DE2.PCRa.1-B.DE2.PCRa.2': [0.4906135471139451, 0],\n",
       " 'B.DE2.PCRa.1-B.DE3.PCRa.2': [0.5184962589073444, 0],\n",
       " 'B.DE2.PCRa.2-B.DE1.PCRa.3': [0.3377074359570841, 0],\n",
       " 'B.DE2.PCRa.2-B.DE1.PCRc.3': [0.4173256089353984, 0],\n",
       " 'B.DE3.PCRa.2-B.DE1.PCRa.3': [0.46482889038344455, 0],\n",
       " 'B.DE3.PCRa.2-B.DE1.PCRc.3': [0.636732388421074, 0],\n",
       " 'BB': [0.7444041821269827, 1],\n",
       " 'BB_T0to1': [0.6952367437310636, 1],\n",
       " 'BB_T1to2': [0.6642792121869026, 0],\n",
       " 'B_T0to1': [0.5701254907474926, 0],\n",
       " 'B_T1to2': [0.5006509709787216, 0],\n",
       " 'B_T2to3': [0.6231151170429223, 0],\n",
       " 'B_T3to4': [0.5671506177857539, 1],\n",
       " 'C': [0.6297319703095559, 0],\n",
       " 'C.DE1.PCRa.1-C.DE3.PCRa.2': [0.44817731470076894, 0],\n",
       " 'C.DE1.PCRa.1-C.DE3.PCRb.2': [0.2557748604885086, 0],\n",
       " 'C.DE1.PCRb.1-C.DE3.PCRa.2': [0.14956571958791465, 0],\n",
       " 'C.DE1.PCRb.1-C.DE3.PCRb.2': [0.09548817243602847, 5],\n",
       " 'C.DE1.PCRc.1-C.DE3.PCRa.2': [0.6013553398501839, 1],\n",
       " 'C.DE1.PCRc.1-C.DE3.PCRb.2': [0.4612942979213467, 0],\n",
       " 'C.DE2.PCRa.3-C.DE2.PCRa.4': [0.5388209504767734, 1],\n",
       " 'C.DE2.PCRa.3-C.DE3.PCRa.4': [0.4792876132656214, 0],\n",
       " 'C.DE2.PCRa.3-C.DE3.PCRb.4': [0.5931873774120322, 0],\n",
       " 'C.DE3.PCRa.2-C.DE2.PCRa.3': [0.2798610541023433, 0],\n",
       " 'C.DE3.PCRb.2-C.DE2.PCRa.3': [0.5168629975590763, 1],\n",
       " 'CC': [0.6986118557405037, 0],\n",
       " 'CC_T0to1': [0.697547063954473, 0],\n",
       " 'C_T0to1': [0.5720311356418728, 1],\n",
       " 'C_T1to2': [0.4376783012621741, 0],\n",
       " 'C_T2to3': [0.46416076043888443, 0],\n",
       " 'C_T3to4': [0.5829334229502386, 0],\n",
       " 'D': [0.6436306906509748, 0],\n",
       " 'D.DE1.PCRa.1-D.DE1.PCRa.2': [0.660017751021607, 0],\n",
       " 'D.DE1.PCRa.1-D.DE1.PCRb.2': [0.47608343192593405, 0],\n",
       " 'D.DE1.PCRa.2-D.DE1.PCRb.3': [0.5212566188420207, 1],\n",
       " 'D.DE1.PCRb.1-D.DE1.PCRa.2': [0.25244977699857263, 0],\n",
       " 'D.DE1.PCRb.1-D.DE1.PCRb.2': [0.6246127942389239, 0],\n",
       " 'D.DE1.PCRb.2-D.DE1.PCRb.3': [0.541404725384248, 1],\n",
       " 'D.DE1.PCRb.3-D.DE1.PCRa.4': [0.5354191832197823, 0],\n",
       " 'D.DE1.PCRb.3-D.DE1.PCRb.4': [0.6369171355007763, 0],\n",
       " 'D_T0to1': [0.3685523051263566, 0],\n",
       " 'D_T1to2': [0.6992080855834442, 0],\n",
       " 'D_T2to3': [0.634126064613582, 0],\n",
       " 'D_T3to4': [0.6287711604653009, 1]}"
      ]
     },
     "execution_count": 39,
     "metadata": {},
     "output_type": "execute_result"
    }
   ],
   "source": [
    "resample_predictions"
   ]
  },
  {
   "cell_type": "code",
   "execution_count": 40,
   "metadata": {},
   "outputs": [],
   "source": [
    "tech_cols = [col for col in fitness_cols if 'DE' in col and 'resample' in col]\n",
    "\n",
    "tech_single_t_train_sets = {}\n",
    "for rep in ['A','B','C','D']:\n",
    "    for t in range(4):\n",
    "        this_rep_t = [col for col in tech_cols if f'{rep}.' in col and f'.{t}-' in col]\n",
    "        if len(this_rep_t) > 1:\n",
    "            tech_single_t_train_sets[f'{rep}_{t}'] = this_rep_t\n",
    "\n",
    "technical_predictions = {}\n",
    "\n",
    "for train_set in tech_single_t_train_sets:\n",
    "    train_conditions = tech_single_t_train_sets[train_set]\n",
    "    train_locs = np.where(np.isin(fitness_cols,train_conditions))[0]\n",
    "    \n",
    "    all_locs = sorted(list(train_locs)+list(test_locs))\n",
    "    \n",
    "    this_fitness = fitness[:,all_locs]\n",
    "    new_train_locs = np.where(np.isin(all_locs,train_locs))[0]\n",
    "    new_test_locs = np.where(np.isin(all_locs,test_locs))[0]\n",
    "    \n",
    "    train = [new_train_locs,np.where(np.isin(this_data['barcode'].values,training_bcs))[0]]\n",
    "    test = [new_test_locs,np.where(~np.isin(this_data['barcode'].values,training_bcs))[0]]\n",
    "\n",
    "    by_rank, by_condition, by_mutant, mean_fits = tools.SVD_predictions_train_test(this_fitness,train,test,by_condition=False,by_mutant=False)\n",
    "\n",
    "    technical_predictions[train_set] = [max(by_rank),np.where(by_rank==max(by_rank))[0][0]]"
   ]
  },
  {
   "cell_type": "code",
   "execution_count": 41,
   "metadata": {},
   "outputs": [],
   "source": [
    "\n",
    "rep_train_sets = {}\n",
    "\n",
    "for rep in m3_reps:\n",
    "    candidates = [col for col in fitness_cols if rep == col.split('_')[0] and 'resample' in col and len(col.split('_'))==5]\n",
    "    if len(candidates) > 0:\n",
    "        rep_train_sets[rep] = candidates\n",
    "\n",
    "rep_predictions = {}\n",
    "\n",
    "for train_set in rep_train_sets:\n",
    "    train_conditions = rep_train_sets[train_set]\n",
    "    train_locs = np.where(np.isin(fitness_cols,train_conditions))[0]\n",
    "    \n",
    "    all_locs = sorted(list(train_locs)+list(test_locs))\n",
    "    \n",
    "    this_fitness = fitness[:,all_locs]\n",
    "    new_train_locs = np.where(np.isin(all_locs,train_locs))[0]\n",
    "    new_test_locs = np.where(np.isin(all_locs,test_locs))[0]\n",
    "    \n",
    "    train = [new_train_locs,np.where(np.isin(this_data['barcode'].values,training_bcs))[0]]\n",
    "    test = [new_test_locs,np.where(~np.isin(this_data['barcode'].values,training_bcs))[0]]\n",
    "\n",
    "    by_rank, by_condition, by_mutant, mean_fits = tools.SVD_predictions_train_test(this_fitness,train,test,by_condition=False,by_mutant=False)\n",
    "\n",
    "    rep_predictions[train_set] = [max(by_rank),np.where(by_rank==max(by_rank))[0][0]]"
   ]
  },
  {
   "cell_type": "code",
   "execution_count": 42,
   "metadata": {},
   "outputs": [],
   "source": [
    "\n",
    "batch_train_sets = {}\n",
    "\n",
    "for condition in m3_conditions:\n",
    "    candidates = []\n",
    "    for rep in conditions[condition]:\n",
    "        candidates = candidates + [col for col in fitness_cols if rep == col.split('_')[0] and 'resample' in col and len(col.split('_'))==5]\n",
    "    if len(candidates) > 0:\n",
    "        batch_train_sets[condition] = candidates\n",
    "\n",
    "batch_predictions = {}\n",
    "\n",
    "for train_set in batch_train_sets:\n",
    "    train_conditions = batch_train_sets[train_set]\n",
    "    train_locs = np.where(np.isin(fitness_cols,train_conditions))[0]\n",
    "    \n",
    "    all_locs = sorted(list(train_locs)+list(test_locs))\n",
    "    \n",
    "    this_fitness = fitness[:,all_locs]\n",
    "    new_train_locs = np.where(np.isin(all_locs,train_locs))[0]\n",
    "    new_test_locs = np.where(np.isin(all_locs,test_locs))[0]\n",
    "    \n",
    "    train = [new_train_locs,np.where(np.isin(this_data['barcode'].values,training_bcs))[0]]\n",
    "    test = [new_test_locs,np.where(~np.isin(this_data['barcode'].values,training_bcs))[0]]\n",
    "\n",
    "    by_rank, by_condition, by_mutant, mean_fits = tools.SVD_predictions_train_test(this_fitness,train,test,by_condition=False,by_mutant=False)\n",
    "\n",
    "    batch_predictions[train_set] = [max(by_rank),np.where(by_rank==max(by_rank))[0][0]]"
   ]
  },
  {
   "cell_type": "code",
   "execution_count": 43,
   "metadata": {},
   "outputs": [],
   "source": [
    "# resample_names = np.unique([col.split('_resample')[0] for col in fitness_cols if 'resample' in col if col[0] not in test_reps])\n",
    "# resample_names = [col for col in fitness_cols if 'resample' in col if col[0] not in test_reps]\n",
    "\n",
    "all_predictions = {}\n",
    "\n",
    "train_conditions = [col for col in fitness_cols if 'resample' in col and col[0] not in nonM3_1bb_reps]\n",
    "train_locs = np.where(np.isin(fitness_cols,train_conditions))[0]\n",
    "\n",
    "all_locs = sorted(list(train_locs)+list(test_locs))\n",
    "    \n",
    "this_fitness = fitness[:,all_locs]\n",
    "new_train_locs = np.where(np.isin(all_locs,train_locs))[0]\n",
    "new_test_locs = np.where(np.isin(all_locs,test_locs))[0]\n",
    "\n",
    "train = [new_train_locs,np.where(np.isin(this_data['barcode'].values,training_bcs))[0]]\n",
    "test = [new_test_locs,np.where(~np.isin(this_data['barcode'].values,training_bcs))[0]]\n",
    "\n",
    "by_rank, by_condition, by_mutant, mean_fits = tools.SVD_predictions_train_test(this_fitness,train,test,by_condition=False,by_mutant=False)\n",
    "\n",
    "all_predictions['all'] = [max(by_rank),np.where(by_rank==max(by_rank))[0][0]]"
   ]
  },
  {
   "cell_type": "code",
   "execution_count": 44,
   "metadata": {},
   "outputs": [
    {
     "data": {
      "image/png": "[encoded data removed]",
      "text/plain": [
       "<Figure size 432x288 with 1 Axes>"
      ]
     },
     "metadata": {},
     "output_type": "display_data"
    }
   ],
   "source": [
    "train_names = ['Resample Only','Technical + Resample','Replicates + Resample','Batch + Resample','All']\n",
    "train_colors = ['gray','black','b','g','r']\n",
    "predictions = [list(sorted(np.asarray(list(resample_predictions.values()))[:,0])),\n",
    "               list(sorted(np.asarray(list(technical_predictions.values()))[:,0])),\n",
    "               list(sorted(np.asarray(list(rep_predictions.values()))[:,0])),\n",
    "               list(sorted(np.asarray(list(batch_predictions.values()))[:,0])),\n",
    "              list(sorted(np.asarray(list(all_predictions.values()))[:,0]))]\n",
    "\n",
    "running_index = 0\n",
    "plt.axhline(mean_fits,color='k',label='Mean')\n",
    "for p,p_set in enumerate(predictions):\n",
    "    \n",
    "    plt.plot(range(running_index,running_index+len(p_set)),p_set,'o-',color=train_colors[p],alpha=0.9,label=train_names[p])\n",
    "#     if p+1 == len(predictions):\n",
    "#         plt.plot(range(running_index,running_index+len(p_set)),p_set,'o-',color='r')\n",
    "#     else:\n",
    "#         plt.plot(range(running_index,running_index+len(p_set)),p_set,'o-',color='b')\n",
    "#         plt.axvline(running_index,linestyle='--',color='gray')\n",
    "    running_index += len(p_set) + 5\n",
    "\n",
    "plt.legend()\n",
    "plt.ylabel('Variance Explained in Test Set')\n",
    "plt.ylim(0,1)\n",
    "plt.savefig('layered_predictions_ranks.pdf',bbox_inches='tight')"
   ]
  },
  {
   "cell_type": "code",
   "execution_count": 210,
   "metadata": {},
   "outputs": [
    {
     "data": {
      "text/plain": [
       "array([[ 0.71007392,  1.        ],\n",
       "       [ 0.72802791,  2.        ],\n",
       "       [ 0.7054635 ,  5.        ],\n",
       "       [ 0.57453631,  1.        ],\n",
       "       [ 0.72208077,  6.        ],\n",
       "       [ 0.69530025,  8.        ],\n",
       "       [ 0.72901897,  1.        ],\n",
       "       [ 0.55854921,  1.        ],\n",
       "       [ 0.65994969,  1.        ],\n",
       "       [ 0.28940245, 10.        ],\n",
       "       [ 0.63572766,  3.        ],\n",
       "       [ 0.620692  ,  1.        ],\n",
       "       [ 0.72205576,  2.        ],\n",
       "       [ 0.59348613,  1.        ],\n",
       "       [ 0.70321194,  2.        ],\n",
       "       [ 0.50480113,  4.        ],\n",
       "       [ 0.52322516, 10.        ],\n",
       "       [ 0.69409712,  3.        ],\n",
       "       [ 0.49297645,  1.        ],\n",
       "       [ 0.59020462,  3.        ],\n",
       "       [ 0.47723749,  6.        ],\n",
       "       [ 0.69646327,  1.        ],\n",
       "       [ 0.46219178,  1.        ],\n",
       "       [ 0.24214124,  1.        ],\n",
       "       [ 0.52938998,  1.        ],\n",
       "       [ 0.57765647,  1.        ],\n",
       "       [ 0.52647914,  1.        ],\n",
       "       [ 0.18559537,  2.        ],\n",
       "       [ 0.25571053,  6.        ],\n",
       "       [ 0.20002725,  5.        ],\n",
       "       [ 0.65773588,  1.        ],\n",
       "       [ 0.5958165 , 11.        ],\n",
       "       [ 0.54038788, 11.        ],\n",
       "       [ 0.61053369,  2.        ],\n",
       "       [ 0.78023551,  1.        ],\n",
       "       [ 0.68467392,  2.        ],\n",
       "       [ 0.48137128,  1.        ],\n",
       "       [ 0.31455091, 10.        ],\n",
       "       [ 0.7202281 ,  2.        ],\n",
       "       [ 0.60784993,  0.        ],\n",
       "       [ 0.6201996 ,  1.        ],\n",
       "       [ 0.78211828,  1.        ],\n",
       "       [ 0.70484747,  1.        ],\n",
       "       [ 0.65955207,  1.        ],\n",
       "       [ 0.70611377,  1.        ],\n",
       "       [ 0.50874664,  0.        ],\n",
       "       [ 0.63502669,  5.        ],\n",
       "       [ 0.5791106 ,  5.        ],\n",
       "       [ 0.50755434,  5.        ],\n",
       "       [ 0.55866722,  6.        ],\n",
       "       [ 0.65434364,  1.        ],\n",
       "       [ 0.56254996,  6.        ],\n",
       "       [ 0.53026635,  1.        ],\n",
       "       [ 0.39633348,  2.        ],\n",
       "       [ 0.66364032,  8.        ],\n",
       "       [ 0.53320437,  4.        ],\n",
       "       [ 0.59392022, 10.        ],\n",
       "       [ 0.51488368,  2.        ],\n",
       "       [ 0.60777613,  4.        ],\n",
       "       [ 0.62070129,  1.        ],\n",
       "       [ 0.41278029,  6.        ],\n",
       "       [ 0.44579379,  2.        ],\n",
       "       [ 0.554884  ,  1.        ],\n",
       "       [ 0.25694529,  4.        ],\n",
       "       [ 0.55615073,  1.        ],\n",
       "       [ 0.54856664,  1.        ],\n",
       "       [ 0.32092538,  2.        ],\n",
       "       [ 0.82278198,  2.        ],\n",
       "       [ 0.77429681,  4.        ],\n",
       "       [ 0.54414767,  3.        ],\n",
       "       [ 0.57318589,  3.        ],\n",
       "       [ 0.7971368 ,  7.        ],\n",
       "       [ 0.8434416 ,  2.        ],\n",
       "       [ 0.72403881,  1.        ],\n",
       "       [ 0.81722286, 10.        ],\n",
       "       [ 0.58183071,  2.        ],\n",
       "       [ 0.76944281,  1.        ],\n",
       "       [ 0.72945619,  2.        ],\n",
       "       [ 0.64159347,  2.        ],\n",
       "       [ 0.85178285,  1.        ],\n",
       "       [ 0.5220016 ,  4.        ],\n",
       "       [ 0.82179435,  1.        ],\n",
       "       [ 0.68718388,  3.        ],\n",
       "       [ 0.52941748,  0.        ],\n",
       "       [ 0.63377152,  3.        ],\n",
       "       [ 0.38206743,  1.        ],\n",
       "       [ 0.26398884,  6.        ],\n",
       "       [ 0.67327579,  1.        ],\n",
       "       [ 0.82061274,  5.        ],\n",
       "       [ 0.50320446,  0.        ],\n",
       "       [ 0.39870249,  4.        ],\n",
       "       [ 0.55265603,  1.        ],\n",
       "       [ 0.34270964,  2.        ],\n",
       "       [ 0.63801175,  4.        ],\n",
       "       [ 0.51899671,  6.        ],\n",
       "       [ 0.71542703,  1.        ],\n",
       "       [ 0.66221792,  2.        ],\n",
       "       [ 0.72279556,  1.        ],\n",
       "       [ 0.55152045,  2.        ],\n",
       "       [ 0.5566626 ,  3.        ],\n",
       "       [ 0.6574342 , 10.        ],\n",
       "       [ 0.77945636,  1.        ],\n",
       "       [ 0.84603429,  5.        ],\n",
       "       [ 0.83652541,  5.        ],\n",
       "       [ 0.75871366,  4.        ],\n",
       "       [ 0.66959244,  1.        ],\n",
       "       [ 0.66394593,  3.        ],\n",
       "       [ 0.78006258,  1.        ],\n",
       "       [ 0.61740308,  1.        ],\n",
       "       [ 0.80770599,  2.        ],\n",
       "       [ 0.53203396,  2.        ],\n",
       "       [ 0.44040128,  7.        ],\n",
       "       [ 0.23428674,  9.        ],\n",
       "       [ 0.25208963,  8.        ],\n",
       "       [ 0.63679015,  5.        ],\n",
       "       [ 0.54592757,  3.        ],\n",
       "       [ 0.67486451,  1.        ],\n",
       "       [ 0.63017465,  0.        ],\n",
       "       [ 0.70290977,  1.        ],\n",
       "       [ 0.51310622,  2.        ],\n",
       "       [ 0.68483997,  1.        ],\n",
       "       [ 0.79787938,  7.        ],\n",
       "       [ 0.80493021,  4.        ],\n",
       "       [ 0.7547484 ,  5.        ],\n",
       "       [ 0.5377751 ,  0.        ],\n",
       "       [ 0.6511534 ,  3.        ],\n",
       "       [ 0.69965674,  1.        ],\n",
       "       [ 0.78032303,  1.        ],\n",
       "       [ 0.73777233,  2.        ],\n",
       "       [ 0.57599076,  4.        ],\n",
       "       [ 0.66150821,  2.        ],\n",
       "       [ 0.47491596,  2.        ],\n",
       "       [ 0.70102909,  1.        ],\n",
       "       [ 0.74538233,  1.        ],\n",
       "       [ 0.63071364,  2.        ],\n",
       "       [ 0.69526344,  2.        ],\n",
       "       [ 0.58140742,  3.        ],\n",
       "       [ 0.75313679, 11.        ],\n",
       "       [ 0.77305037,  2.        ],\n",
       "       [ 0.70144165,  1.        ]])"
      ]
     },
     "execution_count": 210,
     "metadata": {},
     "output_type": "execute_result"
    }
   ],
   "source": [
    "np.asarray(list(resample_predictions.values()))"
   ]
  },
  {
   "cell_type": "code",
   "execution_count": 211,
   "metadata": {},
   "outputs": [
    {
     "data": {
      "text/plain": [
       "array([[ 0.18559537,  2.        ],\n",
       "       [ 0.20002725,  5.        ],\n",
       "       [ 0.23428674,  9.        ],\n",
       "       [ 0.24214124,  1.        ],\n",
       "       [ 0.25208963,  8.        ],\n",
       "       [ 0.25571053,  6.        ],\n",
       "       [ 0.25694529,  4.        ],\n",
       "       [ 0.26398884,  6.        ],\n",
       "       [ 0.28940245, 10.        ],\n",
       "       [ 0.31455091, 10.        ],\n",
       "       [ 0.32092538,  2.        ],\n",
       "       [ 0.34270964,  2.        ],\n",
       "       [ 0.38206743,  1.        ],\n",
       "       [ 0.39633348,  2.        ],\n",
       "       [ 0.39870249,  4.        ],\n",
       "       [ 0.41278029,  6.        ],\n",
       "       [ 0.44040128,  7.        ],\n",
       "       [ 0.44579379,  2.        ],\n",
       "       [ 0.46219178,  1.        ],\n",
       "       [ 0.47491596,  2.        ],\n",
       "       [ 0.47723749,  6.        ],\n",
       "       [ 0.48137128,  1.        ],\n",
       "       [ 0.49297645,  1.        ],\n",
       "       [ 0.50320446,  0.        ],\n",
       "       [ 0.50480113,  4.        ],\n",
       "       [ 0.50755434,  5.        ],\n",
       "       [ 0.50874664,  0.        ],\n",
       "       [ 0.51310622,  2.        ],\n",
       "       [ 0.51488368,  2.        ],\n",
       "       [ 0.51899671,  6.        ],\n",
       "       [ 0.5220016 ,  4.        ],\n",
       "       [ 0.52322516, 10.        ],\n",
       "       [ 0.52647914,  1.        ],\n",
       "       [ 0.52938998,  1.        ],\n",
       "       [ 0.52941748,  0.        ],\n",
       "       [ 0.53026635,  1.        ],\n",
       "       [ 0.53203396,  2.        ],\n",
       "       [ 0.53320437,  4.        ],\n",
       "       [ 0.5377751 ,  0.        ],\n",
       "       [ 0.54038788, 11.        ],\n",
       "       [ 0.54414767,  3.        ],\n",
       "       [ 0.54592757,  3.        ],\n",
       "       [ 0.54856664,  1.        ],\n",
       "       [ 0.55152045,  2.        ],\n",
       "       [ 0.55265603,  1.        ],\n",
       "       [ 0.554884  ,  1.        ],\n",
       "       [ 0.55615073,  1.        ],\n",
       "       [ 0.5566626 ,  3.        ],\n",
       "       [ 0.55854921,  1.        ],\n",
       "       [ 0.55866722,  6.        ],\n",
       "       [ 0.56254996,  6.        ],\n",
       "       [ 0.57318589,  3.        ],\n",
       "       [ 0.57453631,  1.        ],\n",
       "       [ 0.57599076,  4.        ],\n",
       "       [ 0.57765647,  1.        ],\n",
       "       [ 0.5791106 ,  5.        ],\n",
       "       [ 0.58140742,  3.        ],\n",
       "       [ 0.58183071,  2.        ],\n",
       "       [ 0.59020462,  3.        ],\n",
       "       [ 0.59348613,  1.        ],\n",
       "       [ 0.59392022, 10.        ],\n",
       "       [ 0.5958165 , 11.        ],\n",
       "       [ 0.60777613,  4.        ],\n",
       "       [ 0.60784993,  0.        ],\n",
       "       [ 0.61053369,  2.        ],\n",
       "       [ 0.61740308,  1.        ],\n",
       "       [ 0.6201996 ,  1.        ],\n",
       "       [ 0.620692  ,  1.        ],\n",
       "       [ 0.62070129,  1.        ],\n",
       "       [ 0.63017465,  0.        ],\n",
       "       [ 0.63071364,  2.        ],\n",
       "       [ 0.63377152,  3.        ],\n",
       "       [ 0.63502669,  5.        ],\n",
       "       [ 0.63572766,  3.        ],\n",
       "       [ 0.63679015,  5.        ],\n",
       "       [ 0.63801175,  4.        ],\n",
       "       [ 0.64159347,  2.        ],\n",
       "       [ 0.6511534 ,  3.        ],\n",
       "       [ 0.65434364,  1.        ],\n",
       "       [ 0.6574342 , 10.        ],\n",
       "       [ 0.65773588,  1.        ],\n",
       "       [ 0.65955207,  1.        ],\n",
       "       [ 0.65994969,  1.        ],\n",
       "       [ 0.66150821,  2.        ],\n",
       "       [ 0.66221792,  2.        ],\n",
       "       [ 0.66364032,  8.        ],\n",
       "       [ 0.66394593,  3.        ],\n",
       "       [ 0.66959244,  1.        ],\n",
       "       [ 0.67327579,  1.        ],\n",
       "       [ 0.67486451,  1.        ],\n",
       "       [ 0.68467392,  2.        ],\n",
       "       [ 0.68483997,  1.        ],\n",
       "       [ 0.68718388,  3.        ],\n",
       "       [ 0.69409712,  3.        ],\n",
       "       [ 0.69526344,  2.        ],\n",
       "       [ 0.69530025,  8.        ],\n",
       "       [ 0.69646327,  1.        ],\n",
       "       [ 0.69965674,  1.        ],\n",
       "       [ 0.70102909,  1.        ],\n",
       "       [ 0.70144165,  1.        ],\n",
       "       [ 0.70290977,  1.        ],\n",
       "       [ 0.70321194,  2.        ],\n",
       "       [ 0.70484747,  1.        ],\n",
       "       [ 0.7054635 ,  5.        ],\n",
       "       [ 0.70611377,  1.        ],\n",
       "       [ 0.71007392,  1.        ],\n",
       "       [ 0.71542703,  1.        ],\n",
       "       [ 0.7202281 ,  2.        ],\n",
       "       [ 0.72205576,  2.        ],\n",
       "       [ 0.72208077,  6.        ],\n",
       "       [ 0.72279556,  1.        ],\n",
       "       [ 0.72403881,  1.        ],\n",
       "       [ 0.72802791,  2.        ],\n",
       "       [ 0.72901897,  1.        ],\n",
       "       [ 0.72945619,  2.        ],\n",
       "       [ 0.73777233,  2.        ],\n",
       "       [ 0.74538233,  1.        ],\n",
       "       [ 0.75313679, 11.        ],\n",
       "       [ 0.7547484 ,  5.        ],\n",
       "       [ 0.75871366,  4.        ],\n",
       "       [ 0.76944281,  1.        ],\n",
       "       [ 0.77305037,  2.        ],\n",
       "       [ 0.77429681,  4.        ],\n",
       "       [ 0.77945636,  1.        ],\n",
       "       [ 0.78006258,  1.        ],\n",
       "       [ 0.78023551,  1.        ],\n",
       "       [ 0.78032303,  1.        ],\n",
       "       [ 0.78211828,  1.        ],\n",
       "       [ 0.7971368 ,  7.        ],\n",
       "       [ 0.79787938,  7.        ],\n",
       "       [ 0.80493021,  4.        ],\n",
       "       [ 0.80770599,  2.        ],\n",
       "       [ 0.81722286, 10.        ],\n",
       "       [ 0.82061274,  5.        ],\n",
       "       [ 0.82179435,  1.        ],\n",
       "       [ 0.82278198,  2.        ],\n",
       "       [ 0.83652541,  5.        ],\n",
       "       [ 0.8434416 ,  2.        ],\n",
       "       [ 0.84603429,  5.        ],\n",
       "       [ 0.85178285,  1.        ]])"
      ]
     },
     "execution_count": 211,
     "metadata": {},
     "output_type": "execute_result"
    }
   ],
   "source": [
    "np.sort(np.asarray(list(resample_predictions.values())),axis=0)\n",
    "\n",
    "a = np.asarray(list(resample_predictions.values()))\n",
    "a[a[:,0].argsort()]\n",
    "               "
   ]
  },
  {
   "cell_type": "code",
   "execution_count": 214,
   "metadata": {},
   "outputs": [
    {
     "data": {
      "text/plain": [
       "{'all': [0.946581667993269, 57]}"
      ]
     },
     "execution_count": 214,
     "metadata": {},
     "output_type": "execute_result"
    }
   ],
   "source": [
    "all_predictions"
   ]
  },
  {
   "cell_type": "code",
   "execution_count": 45,
   "metadata": {},
   "outputs": [
    {
     "name": "stdout",
     "output_type": "stream",
     "text": [
      "8.0\n",
      "12.0\n",
      "4.0\n",
      "10.0\n",
      "56.0\n"
     ]
    },
    {
     "data": {
      "image/png": "[encoded data removed]",
      "text/plain": [
       "<Figure size 432x288 with 1 Axes>"
      ]
     },
     "metadata": {},
     "output_type": "display_data"
    },
    {
     "data": {
      "image/png": "[encoded data removed]",
      "text/plain": [
       "<Figure size 432x288 with 2 Axes>"
      ]
     },
     "metadata": {},
     "output_type": "display_data"
    }
   ],
   "source": [
    "train_names = ['Resample Only','Technical + Resample','Replicates + Resample','Batch + Resample','All']\n",
    "train_colors = ['gray','black','b','g','r']\n",
    "prediction_sets = [resample_predictions,technical_predictions,rep_predictions,batch_predictions,all_predictions]\n",
    "\n",
    "predictions = []\n",
    "model_ranks = []\n",
    "\n",
    "for s in prediction_sets:\n",
    "    a = np.asarray(list(s.values()))\n",
    "    a = a[a[:,0].argsort()]\n",
    "    predictions.append(list(a[:,0]))\n",
    "    model_ranks.append(list(a[:,1]))\n",
    "\n",
    "\n",
    "plt.figure()\n",
    "\n",
    "running_index = 0\n",
    "plt.axhline(mean_fits,color='k',label='Mean')\n",
    "for p,p_set in enumerate(predictions):\n",
    "    \n",
    "    plt.plot(range(running_index,running_index+len(p_set)),p_set,'o-',color=train_colors[p],alpha=0.9,label=train_names[p])\n",
    "#     plt.axvline(running_index,linestyle='--',color='gray')\n",
    "    running_index += len(p_set) + 5\n",
    "\n",
    "plt.legend()\n",
    "plt.ylabel('Variance Explained in Test Set')\n",
    "plt.ylim(0,1)\n",
    "plt.savefig('layered_predictions_ranks.pdf',bbox_inches='tight')\n",
    "\n",
    "\n",
    "plt.figure()\n",
    "# cmaps = ['Greys','Greys','Blues','Greens','Reds']\n",
    "\n",
    "for p,p_set in enumerate(predictions):\n",
    "#     cmap = plt.cm.get_cmap(cmaps[p])\n",
    "    sc = plt.scatter(range(running_index,running_index+len(p_set)),p_set,c=model_ranks[p],vmin=0,vmax=60,alpha=0.9)\n",
    "    print(max(model_ranks[p]))\n",
    "#     sc = plt.scatter(range(running_index,running_index+len(p_set)),p_set,c=model_ranks[p],vmin=0,vmax=60,alpha=0.9,cmap=cmap)\n",
    "    running_index += len(p_set) + 5\n",
    "plt.colorbar(sc,label='Number of Components in Best Model')\n",
    "\n",
    "# plt.legend()\n",
    "plt.ylabel('Variance Explained in Test Set')\n",
    "plt.ylim(0,1)\n",
    "plt.savefig('layered_predictions_n_components_ranks.pdf',bbox_inches='tight')"
   ]
  },
  {
   "cell_type": "code",
   "execution_count": 46,
   "metadata": {},
   "outputs": [
    {
     "data": {
      "text/plain": [
       "array([[217., 216., 216., ..., 218., 219., 218.],\n",
       "       [144., 110., 136., ...,   4.,  11.,  19.],\n",
       "       [194., 195., 196., ..., 201., 201., 203.],\n",
       "       ...,\n",
       "       [155., 153., 145., ..., 171., 170., 170.],\n",
       "       [ 12.,  13.,  13., ..., 104.,  89.,  45.],\n",
       "       [ 45.,  16.,  30., ...,  40.,  46., 103.]])"
      ]
     },
     "execution_count": 46,
     "metadata": {},
     "output_type": "execute_result"
    }
   ],
   "source": [
    "fitness"
   ]
  },
  {
   "cell_type": "code",
   "execution_count": 171,
   "metadata": {},
   "outputs": [
    {
     "data": {
      "text/plain": [
       "[0.7895709042642823,\n",
       " 0.8636297705227355,\n",
       " 0.8752486183568116,\n",
       " 0.8767219518873699,\n",
       " 0.8844291580286193,\n",
       " 0.887547548921681,\n",
       " 0.8867924674818408,\n",
       " 0.8949735807591437,\n",
       " 0.89477838349011,\n",
       " 0.9083844377637014,\n",
       " 0.9081909702593012,\n",
       " 0.9088823600965656,\n",
       " 0.9137176083310229,\n",
       " 0.9138431511706225,\n",
       " 0.9178717610211696,\n",
       " 0.9175351860743388,\n",
       " 0.9174950579808525,\n",
       " 0.9185242407150607,\n",
       " 0.9188200717294767,\n",
       " 0.9188398520387876,\n",
       " 0.9198568819676722,\n",
       " 0.9205846710380757,\n",
       " 0.9198993264212678,\n",
       " 0.9204335768593717,\n",
       " 0.9214615863293113,\n",
       " 0.921131985544795,\n",
       " 0.9202793406170904,\n",
       " 0.9196778774252046,\n",
       " 0.9197150731933101,\n",
       " 0.9180238091515939,\n",
       " 0.9181941449953233,\n",
       " 0.9181386841889891,\n",
       " 0.9175734795547441,\n",
       " 0.916939028211169,\n",
       " 0.9180223617562271,\n",
       " 0.9170289605824552,\n",
       " 0.9166142212486763,\n",
       " 0.9167238422902835,\n",
       " 0.9157404253218514,\n",
       " 0.9156138244592665,\n",
       " 0.9155168316303053,\n",
       " 0.9151388564639598,\n",
       " 0.9150418515728834,\n",
       " 0.9134306862706725,\n",
       " 0.9137129789219381,\n",
       " 0.913127133151023,\n",
       " 0.9126546693877134,\n",
       " 0.9135704018686492,\n",
       " 0.9145707128400129,\n",
       " 0.9144896084341474,\n",
       " 0.9119439385801376,\n",
       " 0.9119232032132503,\n",
       " 0.911167771131237,\n",
       " 0.9091633741539792,\n",
       " 0.903536183482156,\n",
       " 0.9044033421826503,\n",
       " 0.9049677152977216,\n",
       " 0.9049294572138538,\n",
       " 0.9065041683939282,\n",
       " 0.9070613599854425,\n",
       " 0.9074301894534124,\n",
       " 0.9054722449532451,\n",
       " 0.9052630641129679]"
      ]
     },
     "execution_count": 171,
     "metadata": {},
     "output_type": "execute_result"
    }
   ],
   "source": [
    "train_names = ['Resample Only','Technical + Resample','Replicates + Resample','Batch + Resample','All']\n",
    "train_colors = ['gray','black','b','g','r']\n",
    "predictions = [list(sorted(resample_predictions.values())),\n",
    "               list(sorted(technical_predictions.values())),\n",
    "               list(sorted(rep_predictions.values())),\n",
    "               list(sorted(batch_predictions.values())),\n",
    "              list(sorted(all_predictions.values()))]\n",
    "\n",
    "running_index = 0\n",
    "plt.axhline(mean_fits,color='k',label='Mean')\n",
    "for p,p_set in enumerate(predictions):\n",
    "    \n",
    "    plt.plot(range(running_index,running_index+len(p_set)),p_set,'o-',color=train_colors[p],alpha=0.9,label=train_names[p])\n",
    "#     if p+1 == len(predictions):\n",
    "#         plt.plot(range(running_index,running_index+len(p_set)),p_set,'o-',color='r')\n",
    "#     else:\n",
    "#         plt.plot(range(running_index,running_index+len(p_set)),p_set,'o-',color='b')\n",
    "#         plt.axvline(running_index,linestyle='--',color='gray')\n",
    "    running_index += len(p_set) + 5\n",
    "\n",
    "plt.legend()\n",
    "plt.ylabel('Variance Explained in Test Set')\n",
    "plt.ylim(0,1)\n",
    "plt.savefig('layered_predictions.pdf',bbox_inches='tight')"
   ]
  },
  {
   "cell_type": "code",
   "execution_count": 136,
   "metadata": {},
   "outputs": [
    {
     "data": {
      "text/plain": [
       "dict_keys(['A_1', 'B_0', 'B_1', 'B_2', 'B_3', 'C_1', 'C_2', 'C_3', 'D_1', 'D_2', 'D_3'])"
      ]
     },
     "execution_count": 136,
     "metadata": {},
     "output_type": "execute_result"
    }
   ],
   "source": [
    "technical_predictions.keys()"
   ]
  },
  {
   "cell_type": "code",
   "execution_count": 126,
   "metadata": {},
   "outputs": [
    {
     "data": {
      "text/plain": [
       "<matplotlib.lines.Line2D at 0x1170d99e8>"
      ]
     },
     "execution_count": 126,
     "metadata": {},
     "output_type": "execute_result"
    },
    {
     "data": {
      "image/png": "[encoded data removed]",
      "text/plain": [
       "<Figure size 432x288 with 1 Axes>"
      ]
     },
     "metadata": {},
     "output_type": "display_data"
    }
   ],
   "source": [
    "plt.plot(sorted(technical_predictions.values()),'o-',color='r')\n",
    "plt.axhline(mean_fits,color='k')"
   ]
  },
  {
   "cell_type": "code",
   "execution_count": 30,
   "metadata": {},
   "outputs": [
    {
     "data": {
      "text/plain": [
       "array([219., 123., 207., 176., 206., 222., 218., 216., 161., 210., 170.,\n",
       "       191., 155.,  45.,  89., 119., 208., 217.,  12.,  55., 156., 160.,\n",
       "       188.,  92.,  75.,  67.,  66., 152.,   8., 195., 150., 209., 201.,\n",
       "       211., 194., 149., 153., 138., 214., 182., 184.,  58., 166., 163.,\n",
       "        25.,  74., 223.,   6.,  29., 124., 198., 159.,  21.,  20., 177.,\n",
       "       158., 190., 213., 171.,  15., 178.,  86., 141., 186., 199., 168.,\n",
       "       183., 143.,  54.,  68.,  97., 212., 203., 116., 193., 196.,  63.,\n",
       "        32., 185., 192., 146.,  49., 175., 189.,  35., 180.,  72.,  28.,\n",
       "       220., 224., 117., 121., 215., 167.,  53., 202.,  51.,  64.,   3.,\n",
       "       174., 179., 118., 148.,  44., 100., 169., 197., 172.,  78., 162.,\n",
       "       147.,   5.,  57.,  48.,  23.,  87.,   1.,  71., 221.,  46.,  37.,\n",
       "       135.,  47., 122., 139.,  17., 157., 130.,  42.,  31., 181.,  13.,\n",
       "        27., 140., 134., 131.,  83.,  81., 187., 109.,  39., 112.,  85.,\n",
       "       205.,  30.,  34., 173.,  40.,  26.,  70.,  65.,  10.,  36., 101.,\n",
       "       108.,  93., 133.,   4.,  16.,   2., 142.,  50.,  59.,  77., 120.,\n",
       "        60.,   7., 111.,  90.,  99., 165.,  98., 204., 129., 127.,  62.,\n",
       "       151., 154., 126.,  73., 164.,  91.,  96., 145.,  56., 105., 113.,\n",
       "        38.,  82., 200.,   9., 102., 114.,  22., 128., 104., 137., 132.,\n",
       "        33.,  79.,  43., 136.,  76.,  88.,  41., 115., 144.,  94.,  95.,\n",
       "       103.,  52.,  19.,  69.,  24., 110.,  80.,  84., 125., 107.,  18.,\n",
       "        61., 106.,  11.,  14.])"
      ]
     },
     "execution_count": 30,
     "metadata": {},
     "output_type": "execute_result"
    }
   ],
   "source": [
    "import scipy\n",
    "\n",
    "scipy.stats.rankdata(fitness[:,i])"
   ]
  },
  {
   "cell_type": "code",
   "execution_count": 26,
   "metadata": {},
   "outputs": [
    {
     "name": "stderr",
     "output_type": "stream",
     "text": [
      "/Library/Frameworks/Python.framework/Versions/3.6/lib/python3.6/site-packages/matplotlib/axes/_axes.py:6448: UserWarning: The 'normed' kwarg is deprecated, and has been replaced by the 'density' kwarg.\n",
      "  warnings.warn(\"The 'normed' kwarg is deprecated, and has been \"\n"
     ]
    },
    {
     "data": {
      "image/png": "[encoded data removed]",
      "text/plain": [
       "<Figure size 432x288 with 1 Axes>"
      ]
     },
     "metadata": {},
     "output_type": "display_data"
    },
    {
     "data": {
      "image/png": "[encoded data removed]",
      "text/plain": [
       "<Figure size 432x288 with 1 Axes>"
      ]
     },
     "metadata": {},
     "output_type": "display_data"
    },
    {
     "data": {
      "image/png": "[encoded data removed]",
      "text/plain": [
       "<Figure size 432x288 with 1 Axes>"
      ]
     },
     "metadata": {},
     "output_type": "display_data"
    },
    {
     "data": {
      "image/png": "[encoded data removed]",
      "text/plain": [
       "<Figure size 432x288 with 1 Axes>"
      ]
     },
     "metadata": {},
     "output_type": "display_data"
    },
    {
     "data": {
      "image/png": "[encoded data removed]",
      "text/plain": [
       "<Figure size 432x288 with 1 Axes>"
      ]
     },
     "metadata": {},
     "output_type": "display_data"
    },
    {
     "data": {
      "image/png": "[encoded data removed]",
      "text/plain": [
       "<Figure size 432x288 with 1 Axes>"
      ]
     },
     "metadata": {},
     "output_type": "display_data"
    }
   ],
   "source": [
    "\n",
    "\n",
    "for i in [0,400,800,1200,1600,2000]:\n",
    "    plt.figure()\n",
    "    sns.distplot(fitness[:,i])"
   ]
  },
  {
   "cell_type": "code",
   "execution_count": 9,
   "metadata": {},
   "outputs": [],
   "source": [
    "tech_cols = [col for col in fitness_cols if 'DE' in col and 'resample' in col]\n",
    "\n",
    "tech_single_t_train_sets = {}\n",
    "for rep in ['A','B','C','D']:\n",
    "    for t in range(4):\n",
    "        this_rep_t = [col for col in tech_cols if f'{rep}.' in col and f'.{t}-' in col]\n",
    "        \n",
    "        tech_single_t_train_sets[f'{rep}_{t}'] = this_rep_t\n",
    "\n",
    "tech_single_rep_train_sets = {}\n",
    "for rep in ['A','B','C','D']:\n",
    "    this_rep = [col for col in tech_cols if f'{rep}.' in col]\n",
    "        \n",
    "    tech_single_rep_train_sets[f'{rep}'] = this_rep\n",
    "    \n",
    "tech_rep_train_sets = {**tech_single_t_train_sets, **tech_single_rep_train_sets}\n",
    "\n",
    "tech_rep_train_sets['AllTechReps'] = [rep for reps in tech_rep_train_sets.values() for rep in reps]\n"
   ]
  }
 ],
 "metadata": {
  "kernelspec": {
   "display_name": "Python 3",
   "language": "python",
   "name": "python3"
  },
  "language_info": {
   "codemirror_mode": {
    "name": "ipython",
    "version": 3
   },
   "file_extension": ".py",
   "mimetype": "text/x-python",
   "name": "python",
   "nbconvert_exporter": "python",
   "pygments_lexer": "ipython3",
   "version": "3.6.4"
  }
 },
 "nbformat": 4,
 "nbformat_minor": 2
}
