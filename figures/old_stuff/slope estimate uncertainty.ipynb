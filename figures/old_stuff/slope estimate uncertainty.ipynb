{
 "cells": [
  {
   "cell_type": "code",
   "execution_count": 2,
   "metadata": {},
   "outputs": [],
   "source": [
    "import numpy as np\n",
    "import seaborn as sns\n",
    "import matplotlib.pyplot as plt\n",
    "%matplotlib inline\n",
    "from matplotlib import colors\n",
    "from scipy.stats import norm\n",
    "sns.set_style('white')\n",
    "sns.set_style('ticks')\n",
    "sns.set_color_codes()"
   ]
  },
  {
   "cell_type": "code",
   "execution_count": null,
   "metadata": {},
   "outputs": [],
   "source": [
    "n_cells = 10**5\n",
    "starting_freq = 0.001\n",
    "fitness_effect = 1.0\n",
    "time = 1\n",
    "\n",
    "ending_freq = starting_freq*np.exp(fitness_effect*time)\n",
    "\n",
    "\n",
    "n_samples = 10**5"
   ]
  },
  {
   "cell_type": "code",
   "execution_count": 46,
   "metadata": {},
   "outputs": [],
   "source": [
    "s = np.random.poisson(n_cells*starting_freq,n_samples)\n",
    "e = np.random.poisson(n_cells*ending_freq,n_samples)"
   ]
  },
  {
   "cell_type": "code",
   "execution_count": 47,
   "metadata": {},
   "outputs": [
    {
     "name": "stdout",
     "output_type": "stream",
     "text": [
      "1.0030048260644902 0.1179164246756957\n"
     ]
    }
   ],
   "source": [
    "slopes = (1.0/time)*(np.log(e)-np.log(s))\n",
    "print(np.mean(slopes),np.std(slopes))\n",
    "\n",
    "mu, std = norm.fit(slopes)"
   ]
  },
  {
   "cell_type": "code",
   "execution_count": 48,
   "metadata": {},
   "outputs": [
    {
     "name": "stderr",
     "output_type": "stream",
     "text": [
      "/Library/Frameworks/Python.framework/Versions/3.6/lib/python3.6/site-packages/matplotlib/axes/_axes.py:6448: UserWarning: The 'normed' kwarg is deprecated, and has been replaced by the 'density' kwarg.\n",
      "  warnings.warn(\"The 'normed' kwarg is deprecated, and has been \"\n"
     ]
    },
    {
     "data": {
      "text/plain": [
       "[<matplotlib.lines.Line2D at 0x115cd7780>]"
      ]
     },
     "execution_count": 48,
     "metadata": {},
     "output_type": "execute_result"
    },
    {
     "data": {
      "image/png": "[encoded data removed]",
      "text/plain": [
       "<Figure size 432x288 with 1 Axes>"
      ]
     },
     "metadata": {},
     "output_type": "display_data"
    }
   ],
   "source": [
    "sns.distplot(slopes)\n",
    "\n",
    "xmin,xmax = plt.xlim()\n",
    "x = np.linspace(xmin,xmax,10000)\n",
    "p = norm.pdf(x, mu, std)\n",
    "plt.plot(x, p, 'k', linewidth=2)"
   ]
  },
  {
   "cell_type": "code",
   "execution_count": 121,
   "metadata": {
    "scrolled": true
   },
   "outputs": [],
   "source": [
    "n_cells = 10**7\n",
    "# starting_freq = 0.001\n",
    "fitness_effect = 1.0\n",
    "time = 1\n",
    "n_samples = 10**5\n",
    "cov = 10**7\n",
    "\n",
    "starting_freqs = np.logspace(-4,-1,20)\n",
    "# starting_freqs = np.linspace(10**-6,0.5,12)\n",
    "fitness_effects = [0.0,0.5,1.0,1.5,2.0]\n",
    "\n",
    "standards = np.zeros((len(starting_freqs),len(fitness_effects)))\n",
    "for sf,starting_freq in enumerate(starting_freqs):\n",
    "    for f,fitness_effect in enumerate(fitness_effects):\n",
    "\n",
    "        ending_freq = starting_freq*np.exp(fitness_effect*time)\n",
    "        s = np.random.poisson(cov*starting_freq,n_samples)\n",
    "        e = np.random.poisson(cov*ending_freq,n_samples)\n",
    "        slopes = (1.0/time)*(np.log(e/cov)-np.log(s/cov))\n",
    "        mu, std = norm.fit(slopes)\n",
    "        \n",
    "#         if str(std) != 'nan': \n",
    "#             plt.figure()\n",
    "\n",
    "#             sns.distplot(slopes)\n",
    "#             xmin,xmax = plt.xlim()\n",
    "#             x = np.linspace(xmin,xmax,10000)\n",
    "#             p = norm.pdf(x, mu, std)\n",
    "#             plt.plot(x, p, 'k', linewidth=2)\n",
    "        \n",
    "        standards[sf,f] = std"
   ]
  },
  {
   "cell_type": "code",
   "execution_count": 122,
   "metadata": {},
   "outputs": [
    {
     "data": {
      "text/plain": [
       "array([[0.04471036, 0.04017294, 0.03693936, 0.03499791, 0.03368027],\n",
       "       [0.03729857, 0.03343679, 0.03076932, 0.02912863, 0.02807087],\n",
       "       [0.03101973, 0.02779337, 0.02576025, 0.02439413, 0.02335045],\n",
       "       [0.02586748, 0.0233449 , 0.02132128, 0.02027364, 0.0195781 ],\n",
       "       [0.02161388, 0.01940333, 0.01786278, 0.01682275, 0.01631575],\n",
       "       [0.01799979, 0.01621343, 0.01492991, 0.01403561, 0.0135515 ],\n",
       "       [0.01495526, 0.01347586, 0.01245933, 0.01174006, 0.01130433],\n",
       "       [0.01254382, 0.01120344, 0.01036173, 0.00980679, 0.00943937],\n",
       "       [0.01047534, 0.00938309, 0.00863002, 0.00816546, 0.00787241],\n",
       "       [0.00870895, 0.00781161, 0.00718076, 0.00680473, 0.00655655],\n",
       "       [0.00726127, 0.00651162, 0.00598954, 0.0056565 , 0.00544847],\n",
       "       [0.00605409, 0.00543423, 0.0050139 , 0.0047149 , 0.00456427],\n",
       "       [0.00504844, 0.00453167, 0.00418151, 0.00395814, 0.00381636],\n",
       "       [0.00422054, 0.00378995, 0.00347173, 0.00328265, 0.00317126],\n",
       "       [0.00351526, 0.00314545, 0.00290521, 0.0027456 , 0.00264038],\n",
       "       [0.00293795, 0.00261178, 0.00241615, 0.00229022, 0.00219611],\n",
       "       [0.00244193, 0.0021787 , 0.00201407, 0.00189473, 0.0018421 ],\n",
       "       [0.00203729, 0.0018219 , 0.00168199, 0.00158318, 0.00152932],\n",
       "       [0.00169224, 0.00152266, 0.00140108, 0.00132646, 0.00127555],\n",
       "       [0.00140897, 0.00126466, 0.00116802, 0.00110677, 0.00106844]])"
      ]
     },
     "execution_count": 122,
     "metadata": {},
     "output_type": "execute_result"
    }
   ],
   "source": [
    "standards"
   ]
  },
  {
   "cell_type": "code",
   "execution_count": 123,
   "metadata": {},
   "outputs": [
    {
     "data": {
      "text/plain": [
       "array([7391269, 7392632, 7390120, ..., 7385958, 7388298, 7387674])"
      ]
     },
     "execution_count": 123,
     "metadata": {},
     "output_type": "execute_result"
    }
   ],
   "source": [
    "e"
   ]
  },
  {
   "cell_type": "code",
   "execution_count": 124,
   "metadata": {},
   "outputs": [
    {
     "data": {
      "text/plain": [
       "Text(0,0.5,'Standard Deviation')"
      ]
     },
     "execution_count": 124,
     "metadata": {},
     "output_type": "execute_result"
    },
    {
     "data": {
      "image/png": "[encoded data removed]",
      "text/plain": [
       "<Figure size 432x288 with 1 Axes>"
      ]
     },
     "metadata": {},
     "output_type": "display_data"
    }
   ],
   "source": [
    "start = 1\n",
    "\n",
    "for f in range(len(fitness_effects)):\n",
    "    p = plt.plot(starting_freqs[start:],standards[:,f][start:],'o',alpha=0.7)\n",
    "    this_fit = np.polyfit(np.log(starting_freqs[start:]),np.log(standards[:,f][start:]),1)\n",
    "    plt.plot(starting_freqs[start:],\n",
    "             [np.exp(this_fit[1])*s**(this_fit[0]) for s in starting_freqs[start:]],\n",
    "            color=p[0].get_color(),alpha=0.7)\n",
    "plt.yscale('log')\n",
    "plt.xscale('log')\n",
    "plt.xlabel('Starting Frequency')\n",
    "plt.ylabel('Standard Deviation')"
   ]
  },
  {
   "cell_type": "code",
   "execution_count": 125,
   "metadata": {},
   "outputs": [
    {
     "name": "stdout",
     "output_type": "stream",
     "text": [
      "[-0.49978911 -7.71137189]\n",
      "[-0.50040939 -7.82383208]\n",
      "[-0.50004465 -7.90338036]\n",
      "[-0.50017907 -7.9607034 ]\n",
      "[-0.499959   -7.99580145]\n"
     ]
    }
   ],
   "source": [
    "for f in range(len(fitness_effects)):\n",
    "    this_fit = np.polyfit(np.log(starting_freqs[start:]),np.log(standards[:,f][start:]),1)\n",
    "    print(this_fit)"
   ]
  },
  {
   "cell_type": "code",
   "execution_count": 101,
   "metadata": {},
   "outputs": [
    {
     "data": {
      "text/plain": [
       "array([-13.20956711, -12.60362367, -11.99768022, -11.39173678,\n",
       "       -10.78579333, -10.17984988,  -9.57390644,  -8.96796299,\n",
       "        -8.36201955,  -7.7560761 ,  -7.15013266,  -6.54418921,\n",
       "        -5.93824577,  -5.33230232,  -4.72635888,  -4.12041543,\n",
       "        -3.51447198,  -2.90852854,  -2.30258509])"
      ]
     },
     "execution_count": 101,
     "metadata": {},
     "output_type": "execute_result"
    }
   ],
   "source": [
    "np.log(starting_freqs[start:])"
   ]
  },
  {
   "cell_type": "code",
   "execution_count": 102,
   "metadata": {},
   "outputs": [
    {
     "data": {
      "text/plain": [
       "array([        nan,         nan,         nan,         nan,         nan,\n",
       "               nan,         nan,         nan,         nan,         nan,\n",
       "               nan, -1.21597526, -1.54554314, -1.86401414, -2.17439179,\n",
       "       -2.47899172, -2.78229708, -3.08465334, -3.38648662])"
      ]
     },
     "execution_count": 102,
     "metadata": {},
     "output_type": "execute_result"
    }
   ],
   "source": [
    "np.log(standards[:,f][start:])"
   ]
  },
  {
   "cell_type": "code",
   "execution_count": 57,
   "metadata": {},
   "outputs": [
    {
     "data": {
      "text/plain": [
       "Text(0,0.5,'Variance')"
      ]
     },
     "execution_count": 57,
     "metadata": {},
     "output_type": "execute_result"
    },
    {
     "data": {
      "image/png": "[encoded data removed]",
      "text/plain": [
       "<Figure size 432x288 with 1 Axes>"
      ]
     },
     "metadata": {},
     "output_type": "display_data"
    }
   ],
   "source": [
    "start = 1\n",
    "\n",
    "for f in range(len(fitness_effects)):\n",
    "    plt.plot(starting_freqs[start:],standards[:,f][start:]**2,'o-',alpha=0.7)\n",
    "plt.yscale('log')\n",
    "plt.xscale('log')\n",
    "plt.xlabel('Starting Frequency')\n",
    "plt.ylabel('Variance')"
   ]
  },
  {
   "cell_type": "code",
   "execution_count": 8,
   "metadata": {},
   "outputs": [
    {
     "data": {
      "text/plain": [
       "nan"
      ]
     },
     "execution_count": 8,
     "metadata": {},
     "output_type": "execute_result"
    }
   ],
   "source": [
    "std"
   ]
  },
  {
   "cell_type": "code",
   "execution_count": 9,
   "metadata": {},
   "outputs": [
    {
     "data": {
      "text/plain": [
       "array([12,  9,  7, ..., 11, 11, 11])"
      ]
     },
     "execution_count": 9,
     "metadata": {},
     "output_type": "execute_result"
    }
   ],
   "source": [
    "s"
   ]
  },
  {
   "cell_type": "code",
   "execution_count": 10,
   "metadata": {},
   "outputs": [
    {
     "data": {
      "text/plain": [
       "0"
      ]
     },
     "execution_count": 10,
     "metadata": {},
     "output_type": "execute_result"
    }
   ],
   "source": [
    "f"
   ]
  },
  {
   "cell_type": "code",
   "execution_count": 11,
   "metadata": {},
   "outputs": [
    {
     "data": {
      "text/plain": [
       "[0.0001, 0.001, 0.01, 0.1]"
      ]
     },
     "execution_count": 11,
     "metadata": {},
     "output_type": "execute_result"
    }
   ],
   "source": [
    "starting_freqs"
   ]
  },
  {
   "cell_type": "code",
   "execution_count": null,
   "metadata": {},
   "outputs": [],
   "source": []
  }
 ],
 "metadata": {
  "kernelspec": {
   "display_name": "Python 3",
   "language": "python",
   "name": "python3"
  },
  "language_info": {
   "codemirror_mode": {
    "name": "ipython",
    "version": 3
   },
   "file_extension": ".py",
   "mimetype": "text/x-python",
   "name": "python",
   "nbconvert_exporter": "python",
   "pygments_lexer": "ipython3",
   "version": "3.6.4"
  }
 },
 "nbformat": 4,
 "nbformat_minor": 2
}
